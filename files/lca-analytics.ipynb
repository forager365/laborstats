{
  "metadata": {
    "kernelspec": {
      "name": "python",
      "display_name": "Python (Pyodide)",
      "language": "python"
    },
    "language_info": {
      "codemirror_mode": {
        "name": "python",
        "version": 3
      },
      "file_extension": ".py",
      "mimetype": "text/x-python",
      "name": "python",
      "nbconvert_exporter": "python",
      "pygments_lexer": "ipython3",
      "version": "3.8"
    }
  },
  "nbformat_minor": 4,
  "nbformat": 4,
  "cells": [
    {
      "cell_type": "markdown",
      "source": "### ✨ JPM Chase LCA applications for Q1 2024 ✨\n**https://forager365.github.io/**\n\n## Query using DuckDB\n\ngo to ***https://sql-workbench.com/***\nfor Q1 JPMChase data\n```sql\nselect * from read_csv_auto('https://forager365.github.io/lca.csv')\nwhere case_status = 'Certified'\nand worksite_state = 'OH'\n```\n***LCA_Q1_Q2.parquet is the Q1 and Q2 dataset for all employers***\n```sql\nselect * from 'https://forager365.github.io/LCA_Q1_Q2.parquet'\nwhere employer_name ilike 'JPM%'\nand case_status = 'Certified'\nand worksite_city = 'Houston'\nand job_title like '%Lead%'",
      "metadata": {}
    },
    {
      "cell_type": "code",
      "source": "import pandas as pd",
      "metadata": {
        "trusted": true
      },
      "outputs": [],
      "execution_count": 19
    },
    {
      "cell_type": "code",
      "source": "df = pd.read_csv('LCA_Q1_Q2.csv', header=0, sep='|', quotechar='\"', parse_dates = [\"BEGIN_DATE\",\"END_DATE\"])",
      "metadata": {
        "trusted": true
      },
      "outputs": [],
      "execution_count": 33
    },
    {
      "cell_type": "code",
      "source": "df.head()",
      "metadata": {
        "trusted": true
      },
      "outputs": [
        {
          "execution_count": 6,
          "output_type": "execute_result",
          "data": {
            "text/plain": "          CASE_NUMBER            CASE_STATUS VISA_CLASS  \\\n0  I-200-19288-087953  Certified - Withdrawn       H-1B   \n1  I-200-19295-102430  Certified - Withdrawn       H-1B   \n2  I-200-19296-103874  Certified - Withdrawn       H-1B   \n3  I-200-19297-106681  Certified - Withdrawn       H-1B   \n4  I-200-19297-106835  Certified - Withdrawn       H-1B   \n\n                                         JOB_TITLE  \\\n0                                     BI Developer   \n1                           Senior Tibco Developer   \n2  Java Backend Microservices Designer / Developer   \n3                             Research Scientist I   \n4                                Software Engineer   \n\n                           SOC_TITLE BEGIN_DATE   END_DATE  \\\n0  Software Developers, Applications 2019-10-15 2021-08-31   \n1  Software Developers, Applications 2019-10-28 2021-02-28   \n2  Software Developers, Applications 2019-10-23 2020-06-25   \n3               Biomedical Engineers 2019-10-24 2022-10-23   \n4  Software Developers, Applications 2019-10-24 2022-10-01   \n\n   TOTAL_WORKER_POSITIONS                    EMPLOYER_NAME  \\\n0                       1             Stiaos Technologies    \n1                       1             Apex IT Services LLC   \n2                       1             Stiaos Technologies    \n3                       1  Georgia Institute of Technology   \n4                       1             Stiaos Technologies    \n\n       EMPLOYER_ADDRESS1  ...      WORKSITE_ADDRESS2 WORKSITE_CITY  \\\n0     8900 Eastloch Dr.   ...  620 Roseville Parkway     Roseville   \n1  500 ALEXANDER PARK DR  ...                    NaN    Earth City   \n2      8900 Eastloch Dr.  ...              Suite 210        Spring   \n3       225 North Ave NW  ...                    NaN       Atlanta   \n4     8900 Eastloch Dr.   ...       700 Hidden Ridge        Irving   \n\n  WORKSITE_COUNTY  WORKSITE_STATE WORKSITE_POSTAL_CODE WAGE_RATE_OF_PAY_FROM  \\\n0          PLACER              CA                95747               89814.0   \n1        ST LOUIS              MO                63045               92820.0   \n2          HARRIS              TX                77379               91104.0   \n3          FULTON              GA                30332               52100.0   \n4          DALLAS              TX                75038               94307.0   \n\n  WAGE_RATE_OF_PAY_TO WAGE_UNIT_OF_PAY PREVAILING_WAGE PW_UNIT_OF_PAY  \n0             89815.0             Year         89814.0           Year  \n1                 NaN             Year         83346.0           Year  \n2             91105.0             Year         91104.0           Year  \n3                 NaN             Year         46821.0           Year  \n4             94308.0             Year         94307.0           Year  \n\n[5 rows x 25 columns]",
            "text/html": "<div>\n<style scoped>\n    .dataframe tbody tr th:only-of-type {\n        vertical-align: middle;\n    }\n\n    .dataframe tbody tr th {\n        vertical-align: top;\n    }\n\n    .dataframe thead th {\n        text-align: right;\n    }\n</style>\n<table border=\"1\" class=\"dataframe\">\n  <thead>\n    <tr style=\"text-align: right;\">\n      <th></th>\n      <th>CASE_NUMBER</th>\n      <th>CASE_STATUS</th>\n      <th>VISA_CLASS</th>\n      <th>JOB_TITLE</th>\n      <th>SOC_TITLE</th>\n      <th>BEGIN_DATE</th>\n      <th>END_DATE</th>\n      <th>TOTAL_WORKER_POSITIONS</th>\n      <th>EMPLOYER_NAME</th>\n      <th>EMPLOYER_ADDRESS1</th>\n      <th>...</th>\n      <th>WORKSITE_ADDRESS2</th>\n      <th>WORKSITE_CITY</th>\n      <th>WORKSITE_COUNTY</th>\n      <th>WORKSITE_STATE</th>\n      <th>WORKSITE_POSTAL_CODE</th>\n      <th>WAGE_RATE_OF_PAY_FROM</th>\n      <th>WAGE_RATE_OF_PAY_TO</th>\n      <th>WAGE_UNIT_OF_PAY</th>\n      <th>PREVAILING_WAGE</th>\n      <th>PW_UNIT_OF_PAY</th>\n    </tr>\n  </thead>\n  <tbody>\n    <tr>\n      <th>0</th>\n      <td>I-200-19288-087953</td>\n      <td>Certified - Withdrawn</td>\n      <td>H-1B</td>\n      <td>BI Developer</td>\n      <td>Software Developers, Applications</td>\n      <td>2019-10-15</td>\n      <td>2021-08-31</td>\n      <td>1</td>\n      <td>Stiaos Technologies</td>\n      <td>8900 Eastloch Dr.</td>\n      <td>...</td>\n      <td>620 Roseville Parkway</td>\n      <td>Roseville</td>\n      <td>PLACER</td>\n      <td>CA</td>\n      <td>95747</td>\n      <td>89814.0</td>\n      <td>89815.0</td>\n      <td>Year</td>\n      <td>89814.0</td>\n      <td>Year</td>\n    </tr>\n    <tr>\n      <th>1</th>\n      <td>I-200-19295-102430</td>\n      <td>Certified - Withdrawn</td>\n      <td>H-1B</td>\n      <td>Senior Tibco Developer</td>\n      <td>Software Developers, Applications</td>\n      <td>2019-10-28</td>\n      <td>2021-02-28</td>\n      <td>1</td>\n      <td>Apex IT Services LLC</td>\n      <td>500 ALEXANDER PARK DR</td>\n      <td>...</td>\n      <td>NaN</td>\n      <td>Earth City</td>\n      <td>ST LOUIS</td>\n      <td>MO</td>\n      <td>63045</td>\n      <td>92820.0</td>\n      <td>NaN</td>\n      <td>Year</td>\n      <td>83346.0</td>\n      <td>Year</td>\n    </tr>\n    <tr>\n      <th>2</th>\n      <td>I-200-19296-103874</td>\n      <td>Certified - Withdrawn</td>\n      <td>H-1B</td>\n      <td>Java Backend Microservices Designer / Developer</td>\n      <td>Software Developers, Applications</td>\n      <td>2019-10-23</td>\n      <td>2020-06-25</td>\n      <td>1</td>\n      <td>Stiaos Technologies</td>\n      <td>8900 Eastloch Dr.</td>\n      <td>...</td>\n      <td>Suite 210</td>\n      <td>Spring</td>\n      <td>HARRIS</td>\n      <td>TX</td>\n      <td>77379</td>\n      <td>91104.0</td>\n      <td>91105.0</td>\n      <td>Year</td>\n      <td>91104.0</td>\n      <td>Year</td>\n    </tr>\n    <tr>\n      <th>3</th>\n      <td>I-200-19297-106681</td>\n      <td>Certified - Withdrawn</td>\n      <td>H-1B</td>\n      <td>Research Scientist I</td>\n      <td>Biomedical Engineers</td>\n      <td>2019-10-24</td>\n      <td>2022-10-23</td>\n      <td>1</td>\n      <td>Georgia Institute of Technology</td>\n      <td>225 North Ave NW</td>\n      <td>...</td>\n      <td>NaN</td>\n      <td>Atlanta</td>\n      <td>FULTON</td>\n      <td>GA</td>\n      <td>30332</td>\n      <td>52100.0</td>\n      <td>NaN</td>\n      <td>Year</td>\n      <td>46821.0</td>\n      <td>Year</td>\n    </tr>\n    <tr>\n      <th>4</th>\n      <td>I-200-19297-106835</td>\n      <td>Certified - Withdrawn</td>\n      <td>H-1B</td>\n      <td>Software Engineer</td>\n      <td>Software Developers, Applications</td>\n      <td>2019-10-24</td>\n      <td>2022-10-01</td>\n      <td>1</td>\n      <td>Stiaos Technologies</td>\n      <td>8900 Eastloch Dr.</td>\n      <td>...</td>\n      <td>700 Hidden Ridge</td>\n      <td>Irving</td>\n      <td>DALLAS</td>\n      <td>TX</td>\n      <td>75038</td>\n      <td>94307.0</td>\n      <td>94308.0</td>\n      <td>Year</td>\n      <td>94307.0</td>\n      <td>Year</td>\n    </tr>\n  </tbody>\n</table>\n<p>5 rows × 25 columns</p>\n</div>"
          },
          "metadata": {}
        }
      ],
      "execution_count": 6
    },
    {
      "cell_type": "code",
      "source": "df.dtypes",
      "metadata": {
        "trusted": true
      },
      "outputs": [
        {
          "execution_count": 7,
          "output_type": "execute_result",
          "data": {
            "text/plain": "CASE_NUMBER                       object\nCASE_STATUS                       object\nVISA_CLASS                        object\nJOB_TITLE                         object\nSOC_TITLE                         object\nBEGIN_DATE                datetime64[ns]\nEND_DATE                  datetime64[ns]\nTOTAL_WORKER_POSITIONS             int64\nEMPLOYER_NAME                     object\nEMPLOYER_ADDRESS1                 object\nEMPLOYER_CITY                     object\nEMPLOYER_STATE                    object\nEMPLOYER_POSTAL_CODE              object\nNAICS_CODE                         int64\nWORKSITE_ADDRESS1                 object\nWORKSITE_ADDRESS2                 object\nWORKSITE_CITY                     object\nWORKSITE_COUNTY                   object\nWORKSITE_STATE                    object\nWORKSITE_POSTAL_CODE              object\nWAGE_RATE_OF_PAY_FROM            float64\nWAGE_RATE_OF_PAY_TO              float64\nWAGE_UNIT_OF_PAY                  object\nPREVAILING_WAGE                  float64\nPW_UNIT_OF_PAY                    object\ndtype: object"
          },
          "metadata": {}
        }
      ],
      "execution_count": 7
    },
    {
      "cell_type": "code",
      "source": "df.shape",
      "metadata": {
        "trusted": true
      },
      "outputs": [
        {
          "execution_count": 8,
          "output_type": "execute_result",
          "data": {
            "text/plain": "(225917, 25)"
          },
          "metadata": {}
        }
      ],
      "execution_count": 8
    },
    {
      "cell_type": "code",
      "source": "df.info",
      "metadata": {
        "trusted": true
      },
      "outputs": [
        {
          "execution_count": 9,
          "output_type": "execute_result",
          "data": {
            "text/plain": "<bound method DataFrame.info of                CASE_NUMBER            CASE_STATUS      VISA_CLASS  \\\n0       I-200-19288-087953  Certified - Withdrawn            H-1B   \n1       I-200-19295-102430  Certified - Withdrawn            H-1B   \n2       I-200-19296-103874  Certified - Withdrawn            H-1B   \n3       I-200-19297-106681  Certified - Withdrawn            H-1B   \n4       I-200-19297-106835  Certified - Withdrawn            H-1B   \n...                    ...                    ...             ...   \n225912  I-203-24085-827881                 Denied  E-3 Australian   \n225913  I-203-24086-830388                 Denied  E-3 Australian   \n225914  I-203-24087-832431                 Denied  E-3 Australian   \n225915  I-203-24087-832836                 Denied  E-3 Australian   \n225916  I-203-24089-840206              Withdrawn  E-3 Australian   \n\n                                              JOB_TITLE  \\\n0                                          BI Developer   \n1                                Senior Tibco Developer   \n2       Java Backend Microservices Designer / Developer   \n3                                  Research Scientist I   \n4                                     Software Engineer   \n...                                                 ...   \n225912                                          Teacher   \n225913                            Senior Vice President   \n225914                                   Head of Growth   \n225915                                            Coach   \n225916                                            Coach   \n\n                                                SOC_TITLE BEGIN_DATE  \\\n0                       Software Developers, Applications 2019-10-15   \n1                       Software Developers, Applications 2019-10-28   \n2                       Software Developers, Applications 2019-10-23   \n3                                    Biomedical Engineers 2019-10-24   \n4                       Software Developers, Applications 2019-10-24   \n...                                                   ...        ...   \n225912  Elementary School Teachers, Except Special Edu... 2024-08-16   \n225913                    General and Operations Managers 2024-07-01   \n225914                    General and Operations Managers 2024-04-22   \n225915                                 Coaches and Scouts 2024-04-21   \n225916                                 Coaches and Scouts 2024-04-21   \n\n         END_DATE  TOTAL_WORKER_POSITIONS                    EMPLOYER_NAME  \\\n0      2021-08-31                       1             Stiaos Technologies    \n1      2021-02-28                       1             Apex IT Services LLC   \n2      2020-06-25                       1             Stiaos Technologies    \n3      2022-10-23                       1  Georgia Institute of Technology   \n4      2022-10-01                       1             Stiaos Technologies    \n...           ...                     ...                              ...   \n225912 2026-08-15                       1                      Carden Hall   \n225913 2026-06-30                       1                    CrescoNet LLC   \n225914 2026-04-17                       1                   Exa Labs, Inc.   \n225915 2026-04-20                       1                 Oakview Farm LLC   \n225916 2026-04-20                       1                 Oakview Farm LLC   \n\n            EMPLOYER_ADDRESS1  ...      WORKSITE_ADDRESS2  WORKSITE_CITY  \\\n0          8900 Eastloch Dr.   ...  620 Roseville Parkway      Roseville   \n1       500 ALEXANDER PARK DR  ...                    NaN     Earth City   \n2           8900 Eastloch Dr.  ...              Suite 210         Spring   \n3            225 North Ave NW  ...                    NaN        Atlanta   \n4          8900 Eastloch Dr.   ...       700 Hidden Ridge         Irving   \n...                       ...  ...                    ...            ...   \n225912      1541 Monrovia Ave  ...                    NaN  Newport Beach   \n225913  909 Montgomery Street  ...               Ste. 104  San Francisco   \n225914        533 Page Street  ...                    NaN  San Francisco   \n225915      6658 NW 150th Ave  ...                    NaN      Morriston   \n225916      6658 NW 150th Ave  ...                    NaN      Morriston   \n\n       WORKSITE_COUNTY  WORKSITE_STATE WORKSITE_POSTAL_CODE  \\\n0               PLACER              CA                95747   \n1             ST LOUIS              MO                63045   \n2               HARRIS              TX                77379   \n3               FULTON              GA                30332   \n4               DALLAS              TX                75038   \n...                ...             ...                  ...   \n225912          ORANGE              CA                92663   \n225913   SAN FRANCISCO              CA                94103   \n225914   SAN FRANCISCO              CA                94117   \n225915            LEVY              FL                32668   \n225916            LEVY              FL                32668   \n\n       WAGE_RATE_OF_PAY_FROM WAGE_RATE_OF_PAY_TO WAGE_UNIT_OF_PAY  \\\n0                    89814.0             89815.0             Year   \n1                    92820.0                 NaN             Year   \n2                    91104.0             91105.0             Year   \n3                    52100.0                 NaN             Year   \n4                    94307.0             94308.0             Year   \n...                      ...                 ...              ...   \n225912               69000.0                 NaN             Year   \n225913              168000.0                 NaN             Year   \n225914              160000.0            180000.0             Year   \n225915               24350.0                 NaN             Year   \n225916               24500.0                 NaN             Year   \n\n       PREVAILING_WAGE PW_UNIT_OF_PAY  \n0              89814.0           Year  \n1              83346.0           Year  \n2              91104.0           Year  \n3              46821.0           Year  \n4              94307.0           Year  \n...                ...            ...  \n225912         60910.0           Year  \n225913        141794.0           Year  \n225914        123053.0           Year  \n225915         24350.0           Year  \n225916         24350.0           Year  \n\n[225917 rows x 25 columns]>"
          },
          "metadata": {}
        }
      ],
      "execution_count": 9
    },
    {
      "cell_type": "code",
      "source": "df.EMPLOYER_NAME.unique()",
      "metadata": {
        "trusted": true
      },
      "outputs": [
        {
          "execution_count": 10,
          "output_type": "execute_result",
          "data": {
            "text/plain": "array(['Stiaos Technologies ', 'Apex IT Services LLC',\n       'Georgia Institute of Technology', ..., 'CrescoNet LLC',\n       'Exa Labs, Inc.', 'Oakview Farm LLC'], dtype=object)"
          },
          "metadata": {}
        }
      ],
      "execution_count": 10
    },
    {
      "cell_type": "code",
      "source": "df[\"EMPLOYER_NAME\"].drop_duplicates().sort_values(ascending=False)",
      "metadata": {
        "trusted": true
      },
      "outputs": [
        {
          "execution_count": 11,
          "output_type": "execute_result",
          "data": {
            "text/plain": "87078      ¿Z. Wang & Associates, P.C.\n7595                       ¿PGIM, Inc.\n47589                     zulily, LLC.\n22354             yes technologies llc\n158431                   xprotean inc.\n                      ...             \n35292                Excellent IT Soft\n41860                   AIWAYSION INC.\n22791                    \\tUxcel Inc. \n13019          \\tNetspend Corporation \n17660     \\tICON TECHNICAL GROUP, INC.\nName: EMPLOYER_NAME, Length: 34645, dtype: object"
          },
          "metadata": {}
        }
      ],
      "execution_count": 11
    },
    {
      "cell_type": "code",
      "source": "df.query('EMPLOYER_NAME.str.contains(\"JPMorgan|JP Morgan\", case=False).values and CASE_STATUS == \"Certified\" and WORKSITE_CITY == \"Columbus\"',inplace=True) ",
      "metadata": {
        "trusted": true
      },
      "outputs": [],
      "execution_count": 68
    },
    {
      "cell_type": "code",
      "source": "df[['JOB_TITLE','BEGIN_DATE','WORKSITE_CITY','TOTAL_WORKER_POSITIONS']].sort_values(\"BEGIN_DATE\", ascending = True)",
      "metadata": {
        "trusted": true
      },
      "outputs": [
        {
          "execution_count": 69,
          "output_type": "execute_result",
          "data": {
            "text/plain": "                                          JOB_TITLE BEGIN_DATE WORKSITE_CITY  \\\n19055                    Associate, Quant Analytics 2023-09-30      Columbus   \n13878                        Lead Software Engineer 2023-10-02      Columbus   \n13911                  Associate, Software Engineer 2023-10-23      Columbus   \n27258        Vice President, Lead Software Engineer 2023-10-30      Columbus   \n32774    Vice President, Sr. Lead Software Engineer 2023-11-13      Columbus   \n...                                             ...        ...           ...   \n204311  Vice President, Analytics Solutions Manager 2024-09-06      Columbus   \n203646     Vice President, Product Delivery Manager 2024-09-06      Columbus   \n207784       Vice President, Lead Software Engineer 2024-09-07      Columbus   \n198682             Associate, Software Engineer III 2024-09-10      Columbus   \n212715              Associate, Applications Support 2024-09-11      Columbus   \n\n        TOTAL_WORKER_POSITIONS  \n19055                        1  \n13878                        1  \n13911                        1  \n27258                        1  \n32774                        1  \n...                        ...  \n204311                       1  \n203646                       1  \n207784                       1  \n198682                       1  \n212715                       1  \n\n[138 rows x 4 columns]",
            "text/html": "<div>\n<style scoped>\n    .dataframe tbody tr th:only-of-type {\n        vertical-align: middle;\n    }\n\n    .dataframe tbody tr th {\n        vertical-align: top;\n    }\n\n    .dataframe thead th {\n        text-align: right;\n    }\n</style>\n<table border=\"1\" class=\"dataframe\">\n  <thead>\n    <tr style=\"text-align: right;\">\n      <th></th>\n      <th>JOB_TITLE</th>\n      <th>BEGIN_DATE</th>\n      <th>WORKSITE_CITY</th>\n      <th>TOTAL_WORKER_POSITIONS</th>\n    </tr>\n  </thead>\n  <tbody>\n    <tr>\n      <th>19055</th>\n      <td>Associate, Quant Analytics</td>\n      <td>2023-09-30</td>\n      <td>Columbus</td>\n      <td>1</td>\n    </tr>\n    <tr>\n      <th>13878</th>\n      <td>Lead Software Engineer</td>\n      <td>2023-10-02</td>\n      <td>Columbus</td>\n      <td>1</td>\n    </tr>\n    <tr>\n      <th>13911</th>\n      <td>Associate, Software Engineer</td>\n      <td>2023-10-23</td>\n      <td>Columbus</td>\n      <td>1</td>\n    </tr>\n    <tr>\n      <th>27258</th>\n      <td>Vice President, Lead Software Engineer</td>\n      <td>2023-10-30</td>\n      <td>Columbus</td>\n      <td>1</td>\n    </tr>\n    <tr>\n      <th>32774</th>\n      <td>Vice President, Sr. Lead Software Engineer</td>\n      <td>2023-11-13</td>\n      <td>Columbus</td>\n      <td>1</td>\n    </tr>\n    <tr>\n      <th>...</th>\n      <td>...</td>\n      <td>...</td>\n      <td>...</td>\n      <td>...</td>\n    </tr>\n    <tr>\n      <th>204311</th>\n      <td>Vice President, Analytics Solutions Manager</td>\n      <td>2024-09-06</td>\n      <td>Columbus</td>\n      <td>1</td>\n    </tr>\n    <tr>\n      <th>203646</th>\n      <td>Vice President, Product Delivery Manager</td>\n      <td>2024-09-06</td>\n      <td>Columbus</td>\n      <td>1</td>\n    </tr>\n    <tr>\n      <th>207784</th>\n      <td>Vice President, Lead Software Engineer</td>\n      <td>2024-09-07</td>\n      <td>Columbus</td>\n      <td>1</td>\n    </tr>\n    <tr>\n      <th>198682</th>\n      <td>Associate, Software Engineer III</td>\n      <td>2024-09-10</td>\n      <td>Columbus</td>\n      <td>1</td>\n    </tr>\n    <tr>\n      <th>212715</th>\n      <td>Associate, Applications Support</td>\n      <td>2024-09-11</td>\n      <td>Columbus</td>\n      <td>1</td>\n    </tr>\n  </tbody>\n</table>\n<p>138 rows × 4 columns</p>\n</div>"
          },
          "metadata": {}
        }
      ],
      "execution_count": 69
    },
    {
      "cell_type": "code",
      "source": "df[['JOB_TITLE','BEGIN_DATE','WORKSITE_CITY','TOTAL_WORKER_POSITIONS']].sort_values(\"BEGIN_DATE\", ascending = True).groupby(\"WORKSITE_CITY\").size()",
      "metadata": {
        "trusted": true
      },
      "outputs": [
        {
          "execution_count": 53,
          "output_type": "execute_result",
          "data": {
            "text/plain": "WORKSITE_CITY\nColumbus    138\ndtype: int64"
          },
          "metadata": {}
        }
      ],
      "execution_count": 53
    },
    {
      "cell_type": "code",
      "source": "%pip install -q nbformat plotly",
      "metadata": {
        "trusted": true
      },
      "outputs": [],
      "execution_count": 10
    },
    {
      "cell_type": "code",
      "source": "import plotly.express as px",
      "metadata": {
        "trusted": true
      },
      "outputs": [],
      "execution_count": 11
    },
    {
      "cell_type": "code",
      "source": "df[['JOB_TITLE','BEGIN_DATE','WORKSITE_CITY','TOTAL_WORKER_POSITIONS']].sort_values(\"BEGIN_DATE\", ascending = True)",
      "metadata": {
        "trusted": true
      },
      "outputs": [
        {
          "execution_count": 59,
          "output_type": "execute_result",
          "data": {
            "text/plain": "                                        JOB_TITLE BEGIN_DATE WORKSITE_CITY  \\\n29                     Associate, Quant Analytics 2023-09-30      Columbus   \n2                          Lead Software Engineer 2023-10-02      Columbus   \n3                    Associate, Software Engineer 2023-10-23      Columbus   \n48         Vice President, Lead Software Engineer 2023-10-30      Columbus   \n78     Vice President, Sr. Lead Software Engineer 2023-11-13      Columbus   \n...                                           ...        ...           ...   \n960   Vice President, Analytics Solutions Manager 2024-09-06      Columbus   \n949      Vice President, Product Delivery Manager 2024-09-06      Columbus   \n985        Vice President, Lead Software Engineer 2024-09-07      Columbus   \n921              Associate, Software Engineer III 2024-09-10      Columbus   \n1008              Associate, Applications Support 2024-09-11      Columbus   \n\n      TOTAL_WORKER_POSITIONS  \n29                         1  \n2                          1  \n3                          1  \n48                         1  \n78                         1  \n...                      ...  \n960                        1  \n949                        1  \n985                        1  \n921                        1  \n1008                       1  \n\n[138 rows x 4 columns]",
            "text/html": "<div>\n<style scoped>\n    .dataframe tbody tr th:only-of-type {\n        vertical-align: middle;\n    }\n\n    .dataframe tbody tr th {\n        vertical-align: top;\n    }\n\n    .dataframe thead th {\n        text-align: right;\n    }\n</style>\n<table border=\"1\" class=\"dataframe\">\n  <thead>\n    <tr style=\"text-align: right;\">\n      <th></th>\n      <th>JOB_TITLE</th>\n      <th>BEGIN_DATE</th>\n      <th>WORKSITE_CITY</th>\n      <th>TOTAL_WORKER_POSITIONS</th>\n    </tr>\n  </thead>\n  <tbody>\n    <tr>\n      <th>29</th>\n      <td>Associate, Quant Analytics</td>\n      <td>2023-09-30</td>\n      <td>Columbus</td>\n      <td>1</td>\n    </tr>\n    <tr>\n      <th>2</th>\n      <td>Lead Software Engineer</td>\n      <td>2023-10-02</td>\n      <td>Columbus</td>\n      <td>1</td>\n    </tr>\n    <tr>\n      <th>3</th>\n      <td>Associate, Software Engineer</td>\n      <td>2023-10-23</td>\n      <td>Columbus</td>\n      <td>1</td>\n    </tr>\n    <tr>\n      <th>48</th>\n      <td>Vice President, Lead Software Engineer</td>\n      <td>2023-10-30</td>\n      <td>Columbus</td>\n      <td>1</td>\n    </tr>\n    <tr>\n      <th>78</th>\n      <td>Vice President, Sr. Lead Software Engineer</td>\n      <td>2023-11-13</td>\n      <td>Columbus</td>\n      <td>1</td>\n    </tr>\n    <tr>\n      <th>...</th>\n      <td>...</td>\n      <td>...</td>\n      <td>...</td>\n      <td>...</td>\n    </tr>\n    <tr>\n      <th>960</th>\n      <td>Vice President, Analytics Solutions Manager</td>\n      <td>2024-09-06</td>\n      <td>Columbus</td>\n      <td>1</td>\n    </tr>\n    <tr>\n      <th>949</th>\n      <td>Vice President, Product Delivery Manager</td>\n      <td>2024-09-06</td>\n      <td>Columbus</td>\n      <td>1</td>\n    </tr>\n    <tr>\n      <th>985</th>\n      <td>Vice President, Lead Software Engineer</td>\n      <td>2024-09-07</td>\n      <td>Columbus</td>\n      <td>1</td>\n    </tr>\n    <tr>\n      <th>921</th>\n      <td>Associate, Software Engineer III</td>\n      <td>2024-09-10</td>\n      <td>Columbus</td>\n      <td>1</td>\n    </tr>\n    <tr>\n      <th>1008</th>\n      <td>Associate, Applications Support</td>\n      <td>2024-09-11</td>\n      <td>Columbus</td>\n      <td>1</td>\n    </tr>\n  </tbody>\n</table>\n<p>138 rows × 4 columns</p>\n</div>"
          },
          "metadata": {}
        }
      ],
      "execution_count": 59
    },
    {
      "cell_type": "code",
      "source": "df.query('EMPLOYER_NAME.str.contains(\"JPMorgan|JP Morgan\", case=False).values and CASE_STATUS == \"Certified\" ',inplace=True)\nfig = px.bar(df, x='WORKSITE_CITY', y='TOTAL_WORKER_POSITIONS')",
      "metadata": {
        "trusted": true
      },
      "outputs": [],
      "execution_count": 34
    },
    {
      "cell_type": "code",
      "source": "fig.show()",
      "metadata": {
        "trusted": true
      },
      "outputs": [
        {
          "output_type": "display_data",
          "data": {
            "application/vnd.plotly.v1+json": {
              "data": [
                {
                  "alignmentgroup": "True",
                  "hovertemplate": "WORKSITE_CITY=%{x}<br>TOTAL_WORKER_POSITIONS=%{y}<extra></extra>",
                  "legendgroup": "",
                  "marker": {
                    "color": "#636efa",
                    "pattern": {
                      "shape": ""
                    }
                  },
                  "name": "",
                  "offsetgroup": "",
                  "orientation": "v",
                  "showlegend": false,
                  "textposition": "auto",
                  "x": [
                    "Wilmington",
                    "Wilmington",
                    "Columbus",
                    "Columbus",
                    "Columbus",
                    "Plano",
                    "Jersey City",
                    "Jersey City",
                    "Jersey City",
                    "Jersey City",
                    "New York",
                    "Seattle",
                    "Wilmington",
                    "Jersey City",
                    "McLean",
                    "Jersey City",
                    "Glen Allen",
                    "Jersey City",
                    "Jersey City",
                    "Plano",
                    "Jersey City",
                    "New York",
                    "Wilmington",
                    "Jersey City",
                    "Wilmington",
                    "Jersey City",
                    "New York",
                    "Jersey City",
                    "Dublin",
                    "Columbus",
                    "Tampa",
                    "Tampa",
                    "Plano",
                    "New York",
                    "Plano",
                    "Tampa",
                    "Plano",
                    "Plano",
                    "Plano",
                    "Plano",
                    "Jersey City",
                    "Stamford",
                    "Stamford",
                    "New York",
                    "Columbus",
                    "New York",
                    "Jersey City",
                    "New York",
                    "Columbus",
                    "New York",
                    "Jersey City",
                    "Chicago",
                    "Columbus",
                    "Plano",
                    "Plano",
                    "Jersey City",
                    "Jersey City",
                    "Plano",
                    "Plano",
                    "Wilmington",
                    "New York",
                    "Plano",
                    "Columbus",
                    "Plano",
                    "Plano",
                    "Jersey City",
                    "Columbus",
                    "Wilmington",
                    "Plano",
                    "Jersey City",
                    "Plano",
                    "Wilmington",
                    "Jersey City",
                    "Plano",
                    "Holladay",
                    "Plano",
                    "Plano",
                    "Plano",
                    "Columbus",
                    "Tampa",
                    "Jersey City",
                    "Plano",
                    "Jersey City",
                    "Plano",
                    "Jersey City",
                    "Jersey City",
                    "New York",
                    "Plano",
                    "Jersey City",
                    "New York",
                    "Jersey City",
                    "Chicago",
                    "New York",
                    "Jersey City",
                    "Jersey City",
                    "New York",
                    "Seattle",
                    "Columbus",
                    "Jersey City",
                    "Jersey City",
                    "Jersey City",
                    "Jersey City",
                    "Columbus",
                    "Jersey City",
                    "Seattle",
                    "Jersey City",
                    "Plano",
                    "Plano",
                    "Seattle",
                    "Tampa",
                    "Seattle",
                    "Jersey City",
                    "Plano",
                    "Jersey City",
                    "New York",
                    "Plano",
                    "Tampa",
                    "Jersey City",
                    "Westerville",
                    "Wilmington",
                    "Jersey City",
                    "Chicago",
                    "Jersey City",
                    "New York",
                    "Newark",
                    "Columbus",
                    "Columbus",
                    "Columbus",
                    "Seattle",
                    "Brooklyn",
                    "Plano",
                    "Wilmington",
                    "Wilmington",
                    "New York",
                    "Jersey City",
                    "Jersey City",
                    "Columbus",
                    "Chicago",
                    "Wilmington",
                    "Wilmington",
                    "Tampa",
                    "Seattle",
                    "Plano",
                    "Westerville",
                    "Seattle",
                    "Wilmington",
                    "Plano",
                    "Seattle",
                    "Jersey City",
                    "Wilmington",
                    "Wilmington",
                    "Plano",
                    "Plano",
                    "Chicago",
                    "Jersey City",
                    "Jersey City",
                    "Tampa",
                    "Columbus",
                    "Columbus",
                    "Plano",
                    "Plano",
                    "Wilmington",
                    "Jersey City",
                    "Holladay",
                    "Jersey City",
                    "New York",
                    "Columbus",
                    "Jersey City",
                    "Jersey City",
                    "New York",
                    "Plano",
                    "New York",
                    "Plano",
                    "New York",
                    "New York",
                    "New York",
                    "New York",
                    "New York",
                    "Columbus",
                    "Houston",
                    "New York",
                    "Wilmington",
                    "New York",
                    "New Castle",
                    "Brooklyn",
                    "Plano",
                    "Columbus",
                    "Jersey City",
                    "Columbus",
                    "Chicago",
                    "Plano",
                    "New York",
                    "Plano",
                    "Newark",
                    "Jersey City",
                    "Plano",
                    "Plano",
                    "Jersey City",
                    "Columbus",
                    "New York",
                    "Wilmington",
                    "Wilmington",
                    "Wilmington",
                    "Columbus",
                    "Plano",
                    "Plano",
                    "Plano",
                    "Wilmington",
                    "Columbus",
                    "Houston",
                    "New York",
                    "Plano",
                    "Chicago",
                    "Wilmington",
                    "Wilmington",
                    "Wilmington",
                    "Newark",
                    "Wilmington",
                    "New York",
                    "Columbus",
                    "Chicago",
                    "San Francisco",
                    "Wilmington",
                    "Plano",
                    "Westerville",
                    "Tampa",
                    "Plano",
                    "Tampa",
                    "Plano",
                    "Plano",
                    "Plano",
                    "Plano",
                    "Plano",
                    "Jersey City",
                    "Columbus",
                    "Wilmington",
                    "New York",
                    "Seattle",
                    "Jersey City",
                    "Plano",
                    "New York",
                    "Columbus",
                    "Newark",
                    "Plano",
                    "Jersey City",
                    "Plano",
                    "New York",
                    "New York",
                    "Wilmington",
                    "New York",
                    "Chicago",
                    "Wilmington",
                    "Wilmington",
                    "Wilmington",
                    "New York",
                    "New York",
                    "Wilmington",
                    "Columbus",
                    "Jersey City",
                    "Columbus",
                    "Columbus",
                    "Columbus",
                    "Jersey City",
                    "Newark",
                    "Seattle",
                    "Jersey City",
                    "Jersey City",
                    "Plano",
                    "Columbus",
                    "Columbus",
                    "Plano",
                    "Wilmington",
                    "Westerville",
                    "Jersey City",
                    "Columbus",
                    "Wilmington",
                    "Plano",
                    "Plano",
                    "Houston",
                    "Jersey City",
                    "Jersey City",
                    "Columbus",
                    "Palo Alto",
                    "Columbus",
                    "Palo Alto",
                    "Wilmington",
                    "Wilmington",
                    "Jersey City",
                    "Jersey City",
                    "Jersey City",
                    "Newark",
                    "Jersey City",
                    "New York",
                    "Newark",
                    "Houston",
                    "New York",
                    "Houston",
                    "Jersey City",
                    "Columbus",
                    "Plano",
                    "New York",
                    "New York",
                    "Columbus",
                    "New York",
                    "Plano",
                    "New York",
                    "New York",
                    "Houston",
                    "Houston",
                    "Chicago",
                    "Wilmington",
                    "Wilmington",
                    "Chicago",
                    "Palo Alto",
                    "Jersey City",
                    "Jersey City",
                    "Chicago",
                    "Boston",
                    "Chicago",
                    "Tampa",
                    "Wilmington",
                    "Plano",
                    "Houston",
                    "Plano",
                    "Houston",
                    "Plano",
                    "Plano",
                    "Plano",
                    "Plano",
                    "Columbus",
                    "Newark",
                    "Plano",
                    "New York",
                    "Plano",
                    "Plano",
                    "Plano",
                    "Palo Alto",
                    "Plano",
                    "Plano",
                    "New York",
                    "Plano",
                    "San Francisco",
                    "Seattle",
                    "Plano",
                    "Palo Alto",
                    "Plano",
                    "Plano",
                    "Plano",
                    "Wilmington",
                    "Plano",
                    "Plano",
                    "Plano",
                    "Plano",
                    "Plano",
                    "New York",
                    "Plano",
                    "Plano",
                    "Plano",
                    "Plano",
                    "Columbus",
                    "Jersey City",
                    "Columbus",
                    "Columbus",
                    "Columbus",
                    "Columbus",
                    "Columbus",
                    "Wilmington",
                    "Palo Alto",
                    "Newark",
                    "Plano",
                    "Plano",
                    "New York",
                    "Plano",
                    "Columbus",
                    "Wilmington",
                    "Tampa",
                    "Wilmington",
                    "Wilmington",
                    "Wilmington",
                    "Tampa",
                    "Columbus",
                    "Brentwood",
                    "Columbus",
                    "Columbus",
                    "Plano",
                    "Columbus",
                    "Plano",
                    "Tampa",
                    "Plano",
                    "Plano",
                    "Plano",
                    "Columbus",
                    "Columbus",
                    "Seattle",
                    "Columbus",
                    "Wilmington",
                    "Jersey City",
                    "Jersey City",
                    "Tampa",
                    "Plano",
                    "Plano",
                    "Plano",
                    "Plano",
                    "Wilmington",
                    "Tampa",
                    "Plano",
                    "Plano",
                    "Plano",
                    "Palo Alto",
                    "PLANO",
                    "Jersey City",
                    "Jersey City",
                    "Columbus",
                    "Wilmington",
                    "Wilmington",
                    "Plano",
                    "Plano",
                    "Plano",
                    "Wilmington",
                    "Plano",
                    "New York",
                    "New York",
                    "Austin",
                    "Plano",
                    "Plano",
                    "Columbus",
                    "Columbus",
                    "Columbus",
                    "Plano",
                    "Plano",
                    "Plano",
                    "Columbus",
                    "Wilmington",
                    "Houston",
                    "Jersey City",
                    "Jersey City",
                    "Westerville",
                    "Wilmington",
                    "Jersey City",
                    "Columbus",
                    "PLANO",
                    "Plano",
                    "Columbus",
                    "Plano",
                    "Plano",
                    "Columbus",
                    "Jersey City",
                    "Tampa",
                    "Jersey City",
                    "Plano",
                    "Plano",
                    "Plano",
                    "Wilmington",
                    "Plano",
                    "Plano",
                    "Plano",
                    "Plano",
                    "Plano",
                    "Tampa",
                    "Columbus",
                    "Tampa",
                    "Jersey City",
                    "Tampa",
                    "Wilmington",
                    "Plano",
                    "Salt Lake City",
                    "Plano",
                    "Plano",
                    "Jersey City",
                    "Columbus",
                    "Jersey City",
                    "Plano",
                    "Wilmington",
                    "Wilmington",
                    "Westerville",
                    "Chicago",
                    "Jersey City",
                    "Tampa",
                    "Jersey City",
                    "Wilmington",
                    "Jersey City",
                    "Brooklyn",
                    "Tampa",
                    "Wilmington",
                    "Wilmington",
                    "Plano",
                    "New York",
                    "Plano",
                    "New York",
                    "New York",
                    "Wilmington",
                    "Columbus",
                    "Houston",
                    "Plano",
                    "Plano",
                    "Wilmington",
                    "Plano",
                    "Plano",
                    "Plano",
                    "Plano",
                    "Plano",
                    "Columbus",
                    "Plano",
                    "Tampa",
                    "Plano",
                    "Wilmington",
                    "Plano",
                    "Wilmington",
                    "Plano",
                    "Plano",
                    "Plano",
                    "Columbus",
                    "New York",
                    "New York",
                    "Tampa",
                    "Plano",
                    "Plano",
                    "Plano",
                    "Plano",
                    "Houston",
                    "Jersey City",
                    "Apex",
                    "Plano",
                    "Plano",
                    "Houston",
                    "Tampa",
                    "Jersey City",
                    "Jersey City",
                    "Glen Allen",
                    "Plano",
                    "Plano",
                    "Plano",
                    "Jersey City",
                    "Jersey City",
                    "New York",
                    "Tampa",
                    "New York",
                    "New York",
                    "Chicago",
                    "Columbus",
                    "Columbus",
                    "New York",
                    "New York",
                    "Plano",
                    "Columbus",
                    "Plano",
                    "Plano",
                    "Plano",
                    "Plano",
                    "New York",
                    "Newark",
                    "Plano",
                    "Jersey City",
                    "Wilmington",
                    "Jersey City",
                    "Jersey City",
                    "Tysons",
                    "New York",
                    "Wilmington",
                    "Houston",
                    "Houston",
                    "Wilmington",
                    "Miami",
                    "Wilmington",
                    "Columbus",
                    "Plano",
                    "Wilmington",
                    "Columbus",
                    "Wilmington",
                    "Jersey City",
                    "Jersey City",
                    "New York",
                    "New York",
                    "New York",
                    "Jersey City",
                    "Houston",
                    "Plano",
                    "Chicago",
                    "New York",
                    "Tampa",
                    "Plano",
                    "Plano",
                    "Jersey City",
                    "Columbus",
                    "Chicago",
                    "Tampa",
                    "Newark",
                    "New York",
                    "Palo Alto",
                    "Chicago",
                    "Jersey City",
                    "New York",
                    "Plano",
                    "New York",
                    "New York",
                    "Chicago",
                    "Tampa",
                    "Tysons",
                    "New York",
                    "Jersey City",
                    "Plano",
                    "Jersey City",
                    "New York",
                    "Fremont",
                    "Wilmington",
                    "Plano",
                    "Jersey City",
                    "Plano",
                    "Plano",
                    "Plano",
                    "Plano",
                    "Plano",
                    "Plano",
                    "Plano",
                    "Plano",
                    "Plano",
                    "Plano",
                    "Plano",
                    "Plano",
                    "Newark",
                    "Plano",
                    "Chicago",
                    "Houston",
                    "New York",
                    "Jersey City",
                    "New York",
                    "New York",
                    "New York",
                    "Plano",
                    "Plano",
                    "Plano",
                    "Plano",
                    "Plano",
                    "Jersey City",
                    "Jersey City",
                    "Plano",
                    "Jersey City",
                    "Jersey City",
                    "Plano",
                    "New York",
                    "Jersey City",
                    "Jersey City",
                    "Jersey City",
                    "Jersey City",
                    "Plano",
                    "Jersey City",
                    "Plano",
                    "Plano",
                    "San Francisco",
                    "Tampa",
                    "Tampa",
                    "Plano",
                    "Tampa",
                    "Jersey City",
                    "New York",
                    "Plano",
                    "Jersey City",
                    "Plano",
                    "Plano",
                    "Chicago",
                    "Jersey City",
                    "Plano",
                    "Plano",
                    "Chicago",
                    "Columbus",
                    "Palo Alto",
                    "Jersey City",
                    "Jersey City",
                    "Columbus",
                    "Houston",
                    "New York",
                    "Jersey City",
                    "Houston",
                    "Houston",
                    "Jersey City",
                    "Jersey City",
                    "Plano",
                    "Lathrop",
                    "Columbus",
                    "Jersey City",
                    "Miami",
                    "Jersey City",
                    "Chicago",
                    "Jersey City",
                    "Chicago",
                    "Columbus",
                    "Jersey City",
                    "Tampa",
                    "Columbus",
                    "Columbus",
                    "Houston",
                    "Columbus",
                    "Jersey City",
                    "Columbus ",
                    "New York",
                    "Tampa",
                    "New York",
                    "Jersey City",
                    "Plano",
                    "Palo Alto",
                    "New York",
                    "Columbus",
                    "New York",
                    "New York",
                    "Chicago",
                    "New York",
                    "New York",
                    "New York",
                    "Jersey City",
                    "Wilmington",
                    "Columbus",
                    "Palo Alto",
                    "New York",
                    "Houston",
                    "Plano",
                    "New York",
                    "New York",
                    "Jersey City",
                    "New York",
                    "New York",
                    "Plano",
                    "Houston",
                    "Houston",
                    "New York",
                    "Jersey City",
                    "Plano",
                    "Chicago",
                    "New York",
                    "Newark",
                    "Jersey City",
                    "Columbus",
                    "Boston",
                    "Plano",
                    "New York",
                    "New York",
                    "Wilmington",
                    "Jersey City",
                    "Tampa",
                    "Wilmington",
                    "New York",
                    "Plano",
                    "Plano",
                    "Jersey City",
                    "Jersey City",
                    "Jersey City",
                    "Jersey City",
                    "Jersey City",
                    "Jersey City",
                    "Jersey City",
                    "New York",
                    "Wilmington",
                    "New York",
                    "Wilmington",
                    "New York",
                    "Newark",
                    "New York",
                    "New York",
                    "Jersey City",
                    "Columbus",
                    "Jersey City",
                    "Jersey City",
                    "New York",
                    "Columbus",
                    "Houston",
                    "New York",
                    "Columbus",
                    "Jersey City",
                    "New York",
                    "Plano",
                    "Chicago",
                    "Plano",
                    "Palo Alto",
                    "Plano",
                    "Plano",
                    "New York",
                    "Seattle",
                    "New York",
                    "Wilmington",
                    "Chicago",
                    "Fremont",
                    "Jersey City",
                    "Columbus",
                    "Columbus",
                    "Plano",
                    "Columbus",
                    "Plano",
                    "Columbus",
                    "Chicago",
                    "New York",
                    "Columbus",
                    "Columbus",
                    "Columbus",
                    "Columbus",
                    "Plano",
                    "Plano",
                    "Columbus",
                    "Jersey City",
                    "Jersey City",
                    "Jersey City",
                    "Jersey City",
                    "Jersey City",
                    "Wilmington",
                    "Wilmington",
                    "Wilmington",
                    "New York",
                    "New York",
                    "Palo Alto",
                    "New York",
                    "Brooklyn",
                    "Elgin",
                    "Columbus",
                    "Newark",
                    "Columbus",
                    "New York",
                    "Plano",
                    "Wilmington",
                    "Columbus",
                    "Columbus",
                    "Plano",
                    "Plano",
                    "New York",
                    "New York",
                    "Plano",
                    "New York",
                    "Seattle",
                    "Plano",
                    "Columbus",
                    "Plano",
                    "Plano",
                    "Plano",
                    "Columbus",
                    "Chicago",
                    "Columbus",
                    "New York",
                    "Columbus",
                    "Jersey City",
                    "New York",
                    "Newark",
                    "Columbus",
                    "Plano",
                    "New York",
                    "Chicago",
                    "Tampa",
                    "Seattle",
                    "Houston",
                    "New York",
                    "Chicago",
                    "Chicago",
                    "New York",
                    "New York",
                    "Seattle",
                    "Houston",
                    "Brooklyn",
                    "New York",
                    "Houston",
                    "Wilmington",
                    "Columbus",
                    "Columbus",
                    "New York",
                    "Chicago",
                    "Jersey City",
                    "Columbus",
                    "Columbus",
                    "Jersey City",
                    "New York",
                    "Wilmington",
                    "Columbus",
                    "Plano",
                    "New York",
                    "Columbus",
                    "Columbus",
                    "New York",
                    "Columbus",
                    "Chicago",
                    "New York",
                    "New York",
                    "Columbus",
                    "Columbus",
                    "Plano",
                    "Chicago",
                    "New York",
                    "New York",
                    "New York",
                    "New York",
                    "Columbus",
                    "Plano",
                    "Plano",
                    "Palo Alto",
                    "Plano",
                    "New York",
                    "Columbus",
                    "Columbus",
                    "Wilmington",
                    "Jersey City",
                    "Jersey City",
                    "Wilmington",
                    "Columbus",
                    "Jersey City",
                    "New York",
                    "Tampa",
                    "New York",
                    "Columbus",
                    "New York",
                    "Wilmington",
                    "Plano",
                    "Columbus",
                    "Plano",
                    "New York",
                    "Plano",
                    "Seattle",
                    "Chicago",
                    "Plano",
                    "Jersey City",
                    "Columbus",
                    "Jersey City",
                    "Houston",
                    "Columbus",
                    "Jersey City",
                    "Palo Alto",
                    "San Francisco",
                    "Plano",
                    "Columbus",
                    "Jersey City",
                    "Plano",
                    "Palo Alto",
                    "Plano",
                    "Jersey City",
                    "San Francisco",
                    "New York",
                    "Plano",
                    "Columbus",
                    "New York",
                    "Plano",
                    "Plano",
                    "Plano",
                    "Wilmington",
                    "Plano",
                    "Columbus",
                    "Columbus",
                    "Plano",
                    "Plano",
                    "New York",
                    "Plano",
                    "Plano",
                    "New York",
                    "Wilmington",
                    "New York",
                    "Wilmington",
                    "Jersey City",
                    "Columbus",
                    "Wilmington",
                    "Plano",
                    "Columbus",
                    "Jersey City",
                    "Columbus",
                    "Wilmington",
                    "Plano",
                    "Wilmington",
                    "Wilmington",
                    "Wilmington",
                    "Columbus",
                    "Plano",
                    "New York",
                    "Plano",
                    "New York",
                    "Plano",
                    "Wilmington",
                    "Plano",
                    "Plano",
                    "Elgin",
                    "Plano",
                    "Columbus",
                    "Columbus",
                    "Plano",
                    "Jersey City",
                    "Wilmington",
                    "Wilmington",
                    "Wilmington",
                    "Wilmington",
                    "Seattle",
                    "New York",
                    "Columbus",
                    "Seattle",
                    "Columbus",
                    "Plano",
                    "Columbus",
                    "Tampa",
                    "Chicago",
                    "Jersey City",
                    "Jersey City",
                    "Jersey City",
                    "Jersey City",
                    "Boston",
                    "Wilmington",
                    "New York",
                    "Westerville",
                    "Jersey City",
                    "Plano",
                    "Plano",
                    "Plano",
                    "Plano",
                    "Plano",
                    "Plano",
                    "Jersey City",
                    "Atlanta",
                    "New York",
                    "Columbus",
                    "Jersey City",
                    "Columbus",
                    "Wilmington",
                    "Wilmington",
                    "Plano",
                    "Elgin",
                    "Newark",
                    "New York",
                    "New York",
                    "New York",
                    "Jersey City",
                    "New York",
                    "New York",
                    "Houston",
                    "Brooklyn",
                    "Jersey City",
                    "Plano",
                    "New York",
                    "Plano",
                    "New York",
                    "Jersey City",
                    "New York",
                    "Tampa",
                    "New York",
                    "New York",
                    "New York",
                    "New York",
                    "Columbus",
                    "New York",
                    "New York",
                    "New York",
                    "Plano",
                    "New York",
                    "New York",
                    "New York",
                    "Newark",
                    "New York",
                    "New York",
                    "Newark",
                    "New York",
                    "New York",
                    "Houston",
                    "Palo Alto",
                    "Brooklyn",
                    "New York",
                    "New York"
                  ],
                  "xaxis": "x",
                  "y": [
                    1,
                    1,
                    1,
                    1,
                    1,
                    1,
                    1,
                    1,
                    1,
                    1,
                    1,
                    1,
                    1,
                    1,
                    1,
                    1,
                    1,
                    1,
                    1,
                    1,
                    1,
                    1,
                    1,
                    1,
                    1,
                    1,
                    1,
                    1,
                    1,
                    1,
                    1,
                    1,
                    1,
                    1,
                    1,
                    1,
                    1,
                    1,
                    1,
                    1,
                    1,
                    1,
                    1,
                    1,
                    1,
                    1,
                    1,
                    1,
                    1,
                    1,
                    1,
                    1,
                    1,
                    1,
                    1,
                    1,
                    1,
                    1,
                    1,
                    1,
                    1,
                    1,
                    1,
                    1,
                    1,
                    1,
                    1,
                    1,
                    1,
                    1,
                    1,
                    1,
                    1,
                    1,
                    1,
                    1,
                    1,
                    1,
                    1,
                    1,
                    1,
                    1,
                    1,
                    1,
                    1,
                    1,
                    1,
                    1,
                    1,
                    1,
                    1,
                    1,
                    1,
                    1,
                    1,
                    1,
                    1,
                    1,
                    1,
                    1,
                    1,
                    1,
                    1,
                    1,
                    1,
                    1,
                    1,
                    1,
                    1,
                    1,
                    1,
                    1,
                    1,
                    1,
                    1,
                    1,
                    1,
                    1,
                    1,
                    1,
                    1,
                    1,
                    1,
                    1,
                    1,
                    1,
                    1,
                    1,
                    1,
                    1,
                    1,
                    1,
                    1,
                    1,
                    1,
                    1,
                    1,
                    1,
                    1,
                    1,
                    1,
                    1,
                    1,
                    1,
                    1,
                    1,
                    1,
                    1,
                    1,
                    1,
                    1,
                    1,
                    1,
                    1,
                    1,
                    1,
                    1,
                    1,
                    1,
                    1,
                    1,
                    1,
                    1,
                    1,
                    1,
                    1,
                    1,
                    1,
                    1,
                    1,
                    1,
                    1,
                    1,
                    1,
                    1,
                    1,
                    1,
                    1,
                    1,
                    1,
                    1,
                    1,
                    1,
                    1,
                    1,
                    1,
                    1,
                    1,
                    1,
                    1,
                    1,
                    1,
                    1,
                    1,
                    1,
                    1,
                    1,
                    1,
                    1,
                    1,
                    1,
                    1,
                    1,
                    1,
                    1,
                    1,
                    1,
                    1,
                    1,
                    1,
                    1,
                    1,
                    1,
                    1,
                    1,
                    1,
                    1,
                    1,
                    1,
                    1,
                    1,
                    1,
                    1,
                    1,
                    1,
                    1,
                    1,
                    1,
                    1,
                    1,
                    1,
                    1,
                    1,
                    1,
                    1,
                    1,
                    1,
                    1,
                    1,
                    1,
                    1,
                    1,
                    1,
                    1,
                    1,
                    1,
                    1,
                    1,
                    1,
                    1,
                    1,
                    1,
                    1,
                    1,
                    1,
                    1,
                    1,
                    1,
                    1,
                    1,
                    1,
                    1,
                    1,
                    1,
                    1,
                    1,
                    1,
                    1,
                    1,
                    1,
                    1,
                    1,
                    1,
                    1,
                    1,
                    1,
                    1,
                    1,
                    1,
                    1,
                    1,
                    1,
                    1,
                    1,
                    1,
                    1,
                    1,
                    1,
                    1,
                    1,
                    1,
                    1,
                    1,
                    1,
                    1,
                    1,
                    1,
                    1,
                    1,
                    1,
                    1,
                    1,
                    1,
                    1,
                    1,
                    1,
                    1,
                    1,
                    1,
                    1,
                    1,
                    1,
                    1,
                    1,
                    1,
                    1,
                    1,
                    1,
                    1,
                    1,
                    1,
                    1,
                    1,
                    1,
                    1,
                    1,
                    1,
                    1,
                    1,
                    1,
                    1,
                    1,
                    1,
                    1,
                    1,
                    1,
                    1,
                    1,
                    1,
                    1,
                    1,
                    1,
                    1,
                    1,
                    1,
                    1,
                    1,
                    1,
                    1,
                    1,
                    1,
                    1,
                    1,
                    1,
                    1,
                    1,
                    1,
                    1,
                    1,
                    1,
                    1,
                    1,
                    1,
                    1,
                    1,
                    1,
                    1,
                    1,
                    1,
                    1,
                    1,
                    1,
                    1,
                    1,
                    1,
                    1,
                    1,
                    1,
                    1,
                    1,
                    1,
                    1,
                    1,
                    1,
                    1,
                    1,
                    1,
                    1,
                    1,
                    1,
                    1,
                    1,
                    1,
                    1,
                    1,
                    1,
                    1,
                    1,
                    1,
                    1,
                    1,
                    1,
                    1,
                    1,
                    1,
                    1,
                    1,
                    1,
                    1,
                    1,
                    1,
                    1,
                    1,
                    1,
                    1,
                    1,
                    1,
                    1,
                    1,
                    1,
                    1,
                    1,
                    1,
                    1,
                    1,
                    1,
                    1,
                    1,
                    1,
                    1,
                    1,
                    1,
                    1,
                    1,
                    1,
                    1,
                    1,
                    1,
                    1,
                    1,
                    1,
                    1,
                    1,
                    1,
                    1,
                    1,
                    1,
                    1,
                    1,
                    1,
                    1,
                    1,
                    1,
                    1,
                    1,
                    1,
                    1,
                    1,
                    1,
                    1,
                    1,
                    1,
                    1,
                    1,
                    1,
                    1,
                    1,
                    1,
                    1,
                    1,
                    1,
                    1,
                    1,
                    1,
                    1,
                    1,
                    1,
                    1,
                    1,
                    1,
                    1,
                    1,
                    1,
                    1,
                    1,
                    1,
                    1,
                    1,
                    1,
                    1,
                    1,
                    1,
                    1,
                    1,
                    1,
                    1,
                    1,
                    1,
                    1,
                    1,
                    1,
                    1,
                    1,
                    1,
                    1,
                    1,
                    1,
                    1,
                    1,
                    1,
                    1,
                    1,
                    1,
                    1,
                    1,
                    1,
                    1,
                    1,
                    1,
                    1,
                    1,
                    1,
                    1,
                    1,
                    1,
                    1,
                    1,
                    1,
                    1,
                    1,
                    1,
                    1,
                    1,
                    1,
                    1,
                    1,
                    1,
                    1,
                    1,
                    1,
                    1,
                    1,
                    1,
                    1,
                    1,
                    1,
                    1,
                    1,
                    1,
                    1,
                    1,
                    1,
                    1,
                    1,
                    1,
                    1,
                    1,
                    1,
                    1,
                    1,
                    1,
                    1,
                    1,
                    1,
                    1,
                    1,
                    1,
                    1,
                    1,
                    1,
                    1,
                    1,
                    1,
                    1,
                    1,
                    1,
                    1,
                    1,
                    1,
                    1,
                    1,
                    1,
                    1,
                    1,
                    1,
                    1,
                    1,
                    1,
                    1,
                    1,
                    1,
                    1,
                    1,
                    1,
                    1,
                    1,
                    1,
                    1,
                    1,
                    1,
                    1,
                    1,
                    1,
                    1,
                    1,
                    1,
                    1,
                    1,
                    1,
                    1,
                    1,
                    1,
                    1,
                    1,
                    1,
                    1,
                    1,
                    1,
                    1,
                    1,
                    1,
                    1,
                    1,
                    1,
                    1,
                    1,
                    1,
                    1,
                    1,
                    1,
                    1,
                    1,
                    1,
                    1,
                    1,
                    1,
                    1,
                    1,
                    1,
                    1,
                    1,
                    1,
                    1,
                    1,
                    1,
                    1,
                    1,
                    1,
                    1,
                    1,
                    1,
                    1,
                    1,
                    1,
                    1,
                    1,
                    1,
                    1,
                    1,
                    1,
                    1,
                    1,
                    1,
                    1,
                    1,
                    1,
                    1,
                    1,
                    1,
                    1,
                    1,
                    1,
                    1,
                    1,
                    1,
                    1,
                    1,
                    1,
                    1,
                    1,
                    1,
                    1,
                    1,
                    1,
                    1,
                    1,
                    1,
                    1,
                    1,
                    1,
                    1,
                    1,
                    1,
                    1,
                    1,
                    1,
                    1,
                    1,
                    1,
                    1,
                    1,
                    1,
                    1,
                    1,
                    1,
                    1,
                    1,
                    1,
                    1,
                    1,
                    1,
                    1,
                    1,
                    1,
                    1,
                    1,
                    1,
                    1,
                    1,
                    1,
                    1,
                    1,
                    1,
                    1,
                    1,
                    1,
                    1,
                    1,
                    1,
                    1,
                    1,
                    1,
                    1,
                    1,
                    1,
                    1,
                    1,
                    1,
                    1,
                    1,
                    1,
                    1,
                    1,
                    1,
                    1,
                    1,
                    1,
                    1,
                    1,
                    1,
                    1,
                    1,
                    1,
                    1,
                    1,
                    1,
                    1,
                    1,
                    1,
                    1,
                    1,
                    1,
                    1,
                    1,
                    1,
                    1,
                    1,
                    1,
                    1,
                    1,
                    1,
                    1,
                    1,
                    1,
                    1,
                    1,
                    1,
                    1,
                    1,
                    1,
                    1,
                    1,
                    1,
                    1,
                    1,
                    1,
                    1,
                    1,
                    1,
                    1,
                    1,
                    1,
                    1,
                    1,
                    1,
                    1,
                    1,
                    1,
                    1,
                    1,
                    1,
                    1,
                    1,
                    1,
                    1,
                    1,
                    1,
                    1,
                    1,
                    1,
                    1,
                    1,
                    1,
                    1,
                    1,
                    1,
                    1,
                    1,
                    1,
                    1,
                    1,
                    1,
                    1,
                    1,
                    1,
                    1,
                    1,
                    1,
                    1,
                    1,
                    1,
                    1,
                    1,
                    1,
                    1,
                    1,
                    1,
                    1,
                    1,
                    1,
                    1,
                    1,
                    1,
                    1,
                    1,
                    1,
                    1,
                    1,
                    1,
                    1,
                    1,
                    1,
                    1,
                    1,
                    1,
                    1,
                    1,
                    1,
                    1,
                    1,
                    1,
                    1,
                    1,
                    1,
                    1,
                    1,
                    1,
                    1,
                    1,
                    1,
                    1,
                    1,
                    1,
                    1,
                    1,
                    1,
                    1,
                    1,
                    1,
                    1,
                    1,
                    1,
                    1,
                    1,
                    1,
                    1,
                    1,
                    1,
                    1,
                    1,
                    1,
                    1,
                    1,
                    1,
                    1,
                    1,
                    1,
                    1,
                    1,
                    1,
                    1,
                    1,
                    1,
                    1,
                    1,
                    1,
                    1,
                    1,
                    1,
                    1,
                    1,
                    1,
                    1,
                    1,
                    1,
                    1,
                    1,
                    1,
                    1,
                    1,
                    1,
                    1,
                    1,
                    1,
                    1,
                    1,
                    1,
                    1,
                    1,
                    1,
                    1,
                    1,
                    1,
                    1,
                    1,
                    1,
                    1,
                    1,
                    1,
                    1,
                    1,
                    1,
                    1,
                    1,
                    1,
                    1,
                    1,
                    1,
                    1,
                    1,
                    1,
                    1,
                    1,
                    1,
                    1,
                    1,
                    1,
                    1,
                    1,
                    1,
                    1,
                    1,
                    1,
                    1,
                    1,
                    1,
                    1,
                    1,
                    1,
                    1,
                    1,
                    1,
                    1,
                    1,
                    1,
                    1,
                    1,
                    1,
                    1,
                    1,
                    1,
                    1,
                    1,
                    1,
                    1,
                    1,
                    1,
                    1,
                    1,
                    1,
                    1,
                    1,
                    1,
                    1,
                    1,
                    1,
                    1,
                    1,
                    1,
                    1,
                    1,
                    1,
                    1,
                    1,
                    1,
                    1,
                    1,
                    1,
                    1,
                    1,
                    1,
                    1,
                    1,
                    1,
                    1,
                    1,
                    1,
                    1,
                    1,
                    1,
                    1,
                    1,
                    1,
                    1,
                    1,
                    1,
                    1,
                    1,
                    1,
                    1,
                    1,
                    1,
                    1,
                    1,
                    1,
                    1,
                    1,
                    1,
                    1,
                    1,
                    1,
                    1,
                    1,
                    1,
                    1,
                    1,
                    1,
                    1,
                    1,
                    1,
                    1,
                    1,
                    1
                  ],
                  "yaxis": "y",
                  "type": "bar"
                }
              ],
              "layout": {
                "template": {
                  "data": {
                    "histogram2dcontour": [
                      {
                        "type": "histogram2dcontour",
                        "colorbar": {
                          "outlinewidth": 0,
                          "ticks": ""
                        },
                        "colorscale": [
                          [
                            0,
                            "#0d0887"
                          ],
                          [
                            0.1111111111111111,
                            "#46039f"
                          ],
                          [
                            0.2222222222222222,
                            "#7201a8"
                          ],
                          [
                            0.3333333333333333,
                            "#9c179e"
                          ],
                          [
                            0.4444444444444444,
                            "#bd3786"
                          ],
                          [
                            0.5555555555555556,
                            "#d8576b"
                          ],
                          [
                            0.6666666666666666,
                            "#ed7953"
                          ],
                          [
                            0.7777777777777778,
                            "#fb9f3a"
                          ],
                          [
                            0.8888888888888888,
                            "#fdca26"
                          ],
                          [
                            1,
                            "#f0f921"
                          ]
                        ]
                      }
                    ],
                    "choropleth": [
                      {
                        "type": "choropleth",
                        "colorbar": {
                          "outlinewidth": 0,
                          "ticks": ""
                        }
                      }
                    ],
                    "histogram2d": [
                      {
                        "type": "histogram2d",
                        "colorbar": {
                          "outlinewidth": 0,
                          "ticks": ""
                        },
                        "colorscale": [
                          [
                            0,
                            "#0d0887"
                          ],
                          [
                            0.1111111111111111,
                            "#46039f"
                          ],
                          [
                            0.2222222222222222,
                            "#7201a8"
                          ],
                          [
                            0.3333333333333333,
                            "#9c179e"
                          ],
                          [
                            0.4444444444444444,
                            "#bd3786"
                          ],
                          [
                            0.5555555555555556,
                            "#d8576b"
                          ],
                          [
                            0.6666666666666666,
                            "#ed7953"
                          ],
                          [
                            0.7777777777777778,
                            "#fb9f3a"
                          ],
                          [
                            0.8888888888888888,
                            "#fdca26"
                          ],
                          [
                            1,
                            "#f0f921"
                          ]
                        ]
                      }
                    ],
                    "heatmap": [
                      {
                        "type": "heatmap",
                        "colorbar": {
                          "outlinewidth": 0,
                          "ticks": ""
                        },
                        "colorscale": [
                          [
                            0,
                            "#0d0887"
                          ],
                          [
                            0.1111111111111111,
                            "#46039f"
                          ],
                          [
                            0.2222222222222222,
                            "#7201a8"
                          ],
                          [
                            0.3333333333333333,
                            "#9c179e"
                          ],
                          [
                            0.4444444444444444,
                            "#bd3786"
                          ],
                          [
                            0.5555555555555556,
                            "#d8576b"
                          ],
                          [
                            0.6666666666666666,
                            "#ed7953"
                          ],
                          [
                            0.7777777777777778,
                            "#fb9f3a"
                          ],
                          [
                            0.8888888888888888,
                            "#fdca26"
                          ],
                          [
                            1,
                            "#f0f921"
                          ]
                        ]
                      }
                    ],
                    "heatmapgl": [
                      {
                        "type": "heatmapgl",
                        "colorbar": {
                          "outlinewidth": 0,
                          "ticks": ""
                        },
                        "colorscale": [
                          [
                            0,
                            "#0d0887"
                          ],
                          [
                            0.1111111111111111,
                            "#46039f"
                          ],
                          [
                            0.2222222222222222,
                            "#7201a8"
                          ],
                          [
                            0.3333333333333333,
                            "#9c179e"
                          ],
                          [
                            0.4444444444444444,
                            "#bd3786"
                          ],
                          [
                            0.5555555555555556,
                            "#d8576b"
                          ],
                          [
                            0.6666666666666666,
                            "#ed7953"
                          ],
                          [
                            0.7777777777777778,
                            "#fb9f3a"
                          ],
                          [
                            0.8888888888888888,
                            "#fdca26"
                          ],
                          [
                            1,
                            "#f0f921"
                          ]
                        ]
                      }
                    ],
                    "contourcarpet": [
                      {
                        "type": "contourcarpet",
                        "colorbar": {
                          "outlinewidth": 0,
                          "ticks": ""
                        }
                      }
                    ],
                    "contour": [
                      {
                        "type": "contour",
                        "colorbar": {
                          "outlinewidth": 0,
                          "ticks": ""
                        },
                        "colorscale": [
                          [
                            0,
                            "#0d0887"
                          ],
                          [
                            0.1111111111111111,
                            "#46039f"
                          ],
                          [
                            0.2222222222222222,
                            "#7201a8"
                          ],
                          [
                            0.3333333333333333,
                            "#9c179e"
                          ],
                          [
                            0.4444444444444444,
                            "#bd3786"
                          ],
                          [
                            0.5555555555555556,
                            "#d8576b"
                          ],
                          [
                            0.6666666666666666,
                            "#ed7953"
                          ],
                          [
                            0.7777777777777778,
                            "#fb9f3a"
                          ],
                          [
                            0.8888888888888888,
                            "#fdca26"
                          ],
                          [
                            1,
                            "#f0f921"
                          ]
                        ]
                      }
                    ],
                    "surface": [
                      {
                        "type": "surface",
                        "colorbar": {
                          "outlinewidth": 0,
                          "ticks": ""
                        },
                        "colorscale": [
                          [
                            0,
                            "#0d0887"
                          ],
                          [
                            0.1111111111111111,
                            "#46039f"
                          ],
                          [
                            0.2222222222222222,
                            "#7201a8"
                          ],
                          [
                            0.3333333333333333,
                            "#9c179e"
                          ],
                          [
                            0.4444444444444444,
                            "#bd3786"
                          ],
                          [
                            0.5555555555555556,
                            "#d8576b"
                          ],
                          [
                            0.6666666666666666,
                            "#ed7953"
                          ],
                          [
                            0.7777777777777778,
                            "#fb9f3a"
                          ],
                          [
                            0.8888888888888888,
                            "#fdca26"
                          ],
                          [
                            1,
                            "#f0f921"
                          ]
                        ]
                      }
                    ],
                    "mesh3d": [
                      {
                        "type": "mesh3d",
                        "colorbar": {
                          "outlinewidth": 0,
                          "ticks": ""
                        }
                      }
                    ],
                    "scatter": [
                      {
                        "fillpattern": {
                          "fillmode": "overlay",
                          "size": 10,
                          "solidity": 0.2
                        },
                        "type": "scatter"
                      }
                    ],
                    "parcoords": [
                      {
                        "type": "parcoords",
                        "line": {
                          "colorbar": {
                            "outlinewidth": 0,
                            "ticks": ""
                          }
                        }
                      }
                    ],
                    "scatterpolargl": [
                      {
                        "type": "scatterpolargl",
                        "marker": {
                          "colorbar": {
                            "outlinewidth": 0,
                            "ticks": ""
                          }
                        }
                      }
                    ],
                    "bar": [
                      {
                        "error_x": {
                          "color": "#2a3f5f"
                        },
                        "error_y": {
                          "color": "#2a3f5f"
                        },
                        "marker": {
                          "line": {
                            "color": "#E5ECF6",
                            "width": 0.5
                          },
                          "pattern": {
                            "fillmode": "overlay",
                            "size": 10,
                            "solidity": 0.2
                          }
                        },
                        "type": "bar"
                      }
                    ],
                    "scattergeo": [
                      {
                        "type": "scattergeo",
                        "marker": {
                          "colorbar": {
                            "outlinewidth": 0,
                            "ticks": ""
                          }
                        }
                      }
                    ],
                    "scatterpolar": [
                      {
                        "type": "scatterpolar",
                        "marker": {
                          "colorbar": {
                            "outlinewidth": 0,
                            "ticks": ""
                          }
                        }
                      }
                    ],
                    "histogram": [
                      {
                        "marker": {
                          "pattern": {
                            "fillmode": "overlay",
                            "size": 10,
                            "solidity": 0.2
                          }
                        },
                        "type": "histogram"
                      }
                    ],
                    "scattergl": [
                      {
                        "type": "scattergl",
                        "marker": {
                          "colorbar": {
                            "outlinewidth": 0,
                            "ticks": ""
                          }
                        }
                      }
                    ],
                    "scatter3d": [
                      {
                        "type": "scatter3d",
                        "line": {
                          "colorbar": {
                            "outlinewidth": 0,
                            "ticks": ""
                          }
                        },
                        "marker": {
                          "colorbar": {
                            "outlinewidth": 0,
                            "ticks": ""
                          }
                        }
                      }
                    ],
                    "scattermapbox": [
                      {
                        "type": "scattermapbox",
                        "marker": {
                          "colorbar": {
                            "outlinewidth": 0,
                            "ticks": ""
                          }
                        }
                      }
                    ],
                    "scatterternary": [
                      {
                        "type": "scatterternary",
                        "marker": {
                          "colorbar": {
                            "outlinewidth": 0,
                            "ticks": ""
                          }
                        }
                      }
                    ],
                    "scattercarpet": [
                      {
                        "type": "scattercarpet",
                        "marker": {
                          "colorbar": {
                            "outlinewidth": 0,
                            "ticks": ""
                          }
                        }
                      }
                    ],
                    "carpet": [
                      {
                        "aaxis": {
                          "endlinecolor": "#2a3f5f",
                          "gridcolor": "white",
                          "linecolor": "white",
                          "minorgridcolor": "white",
                          "startlinecolor": "#2a3f5f"
                        },
                        "baxis": {
                          "endlinecolor": "#2a3f5f",
                          "gridcolor": "white",
                          "linecolor": "white",
                          "minorgridcolor": "white",
                          "startlinecolor": "#2a3f5f"
                        },
                        "type": "carpet"
                      }
                    ],
                    "table": [
                      {
                        "cells": {
                          "fill": {
                            "color": "#EBF0F8"
                          },
                          "line": {
                            "color": "white"
                          }
                        },
                        "header": {
                          "fill": {
                            "color": "#C8D4E3"
                          },
                          "line": {
                            "color": "white"
                          }
                        },
                        "type": "table"
                      }
                    ],
                    "barpolar": [
                      {
                        "marker": {
                          "line": {
                            "color": "#E5ECF6",
                            "width": 0.5
                          },
                          "pattern": {
                            "fillmode": "overlay",
                            "size": 10,
                            "solidity": 0.2
                          }
                        },
                        "type": "barpolar"
                      }
                    ],
                    "pie": [
                      {
                        "automargin": true,
                        "type": "pie"
                      }
                    ]
                  },
                  "layout": {
                    "autotypenumbers": "strict",
                    "colorway": [
                      "#636efa",
                      "#EF553B",
                      "#00cc96",
                      "#ab63fa",
                      "#FFA15A",
                      "#19d3f3",
                      "#FF6692",
                      "#B6E880",
                      "#FF97FF",
                      "#FECB52"
                    ],
                    "font": {
                      "color": "#2a3f5f"
                    },
                    "hovermode": "closest",
                    "hoverlabel": {
                      "align": "left"
                    },
                    "paper_bgcolor": "white",
                    "plot_bgcolor": "#E5ECF6",
                    "polar": {
                      "bgcolor": "#E5ECF6",
                      "angularaxis": {
                        "gridcolor": "white",
                        "linecolor": "white",
                        "ticks": ""
                      },
                      "radialaxis": {
                        "gridcolor": "white",
                        "linecolor": "white",
                        "ticks": ""
                      }
                    },
                    "ternary": {
                      "bgcolor": "#E5ECF6",
                      "aaxis": {
                        "gridcolor": "white",
                        "linecolor": "white",
                        "ticks": ""
                      },
                      "baxis": {
                        "gridcolor": "white",
                        "linecolor": "white",
                        "ticks": ""
                      },
                      "caxis": {
                        "gridcolor": "white",
                        "linecolor": "white",
                        "ticks": ""
                      }
                    },
                    "coloraxis": {
                      "colorbar": {
                        "outlinewidth": 0,
                        "ticks": ""
                      }
                    },
                    "colorscale": {
                      "sequential": [
                        [
                          0,
                          "#0d0887"
                        ],
                        [
                          0.1111111111111111,
                          "#46039f"
                        ],
                        [
                          0.2222222222222222,
                          "#7201a8"
                        ],
                        [
                          0.3333333333333333,
                          "#9c179e"
                        ],
                        [
                          0.4444444444444444,
                          "#bd3786"
                        ],
                        [
                          0.5555555555555556,
                          "#d8576b"
                        ],
                        [
                          0.6666666666666666,
                          "#ed7953"
                        ],
                        [
                          0.7777777777777778,
                          "#fb9f3a"
                        ],
                        [
                          0.8888888888888888,
                          "#fdca26"
                        ],
                        [
                          1,
                          "#f0f921"
                        ]
                      ],
                      "sequentialminus": [
                        [
                          0,
                          "#0d0887"
                        ],
                        [
                          0.1111111111111111,
                          "#46039f"
                        ],
                        [
                          0.2222222222222222,
                          "#7201a8"
                        ],
                        [
                          0.3333333333333333,
                          "#9c179e"
                        ],
                        [
                          0.4444444444444444,
                          "#bd3786"
                        ],
                        [
                          0.5555555555555556,
                          "#d8576b"
                        ],
                        [
                          0.6666666666666666,
                          "#ed7953"
                        ],
                        [
                          0.7777777777777778,
                          "#fb9f3a"
                        ],
                        [
                          0.8888888888888888,
                          "#fdca26"
                        ],
                        [
                          1,
                          "#f0f921"
                        ]
                      ],
                      "diverging": [
                        [
                          0,
                          "#8e0152"
                        ],
                        [
                          0.1,
                          "#c51b7d"
                        ],
                        [
                          0.2,
                          "#de77ae"
                        ],
                        [
                          0.3,
                          "#f1b6da"
                        ],
                        [
                          0.4,
                          "#fde0ef"
                        ],
                        [
                          0.5,
                          "#f7f7f7"
                        ],
                        [
                          0.6,
                          "#e6f5d0"
                        ],
                        [
                          0.7,
                          "#b8e186"
                        ],
                        [
                          0.8,
                          "#7fbc41"
                        ],
                        [
                          0.9,
                          "#4d9221"
                        ],
                        [
                          1,
                          "#276419"
                        ]
                      ]
                    },
                    "xaxis": {
                      "gridcolor": "white",
                      "linecolor": "white",
                      "ticks": "",
                      "title": {
                        "standoff": 15
                      },
                      "zerolinecolor": "white",
                      "automargin": true,
                      "zerolinewidth": 2
                    },
                    "yaxis": {
                      "gridcolor": "white",
                      "linecolor": "white",
                      "ticks": "",
                      "title": {
                        "standoff": 15
                      },
                      "zerolinecolor": "white",
                      "automargin": true,
                      "zerolinewidth": 2
                    },
                    "scene": {
                      "xaxis": {
                        "backgroundcolor": "#E5ECF6",
                        "gridcolor": "white",
                        "linecolor": "white",
                        "showbackground": true,
                        "ticks": "",
                        "zerolinecolor": "white",
                        "gridwidth": 2
                      },
                      "yaxis": {
                        "backgroundcolor": "#E5ECF6",
                        "gridcolor": "white",
                        "linecolor": "white",
                        "showbackground": true,
                        "ticks": "",
                        "zerolinecolor": "white",
                        "gridwidth": 2
                      },
                      "zaxis": {
                        "backgroundcolor": "#E5ECF6",
                        "gridcolor": "white",
                        "linecolor": "white",
                        "showbackground": true,
                        "ticks": "",
                        "zerolinecolor": "white",
                        "gridwidth": 2
                      }
                    },
                    "shapedefaults": {
                      "line": {
                        "color": "#2a3f5f"
                      }
                    },
                    "annotationdefaults": {
                      "arrowcolor": "#2a3f5f",
                      "arrowhead": 0,
                      "arrowwidth": 1
                    },
                    "geo": {
                      "bgcolor": "white",
                      "landcolor": "#E5ECF6",
                      "subunitcolor": "white",
                      "showland": true,
                      "showlakes": true,
                      "lakecolor": "white"
                    },
                    "title": {
                      "x": 0.05
                    },
                    "mapbox": {
                      "style": "light"
                    }
                  }
                },
                "xaxis": {
                  "anchor": "y",
                  "domain": [
                    0,
                    1
                  ],
                  "title": {
                    "text": "WORKSITE_CITY"
                  },
                  "type": "category",
                  "range": [
                    -0.5,
                    32.5
                  ],
                  "autorange": true
                },
                "yaxis": {
                  "anchor": "x",
                  "domain": [
                    0,
                    1
                  ],
                  "title": {
                    "text": "TOTAL_WORKER_POSITIONS"
                  },
                  "type": "linear",
                  "range": [
                    0,
                    272.63157894736844
                  ],
                  "autorange": true
                },
                "legend": {
                  "tracegroupgap": 0
                },
                "margin": {
                  "t": 60
                },
                "barmode": "relative",
                "autosize": true
              },
              "config": {
                "plotlyServerURL": "https://plot.ly"
              }
            },
            "text/html": "<div>                            <div id=\"383a0c96-0da8-4710-8865-0925f774afd9\" class=\"plotly-graph-div\" style=\"height:525px; width:100%;\"></div>            <script type=\"text/javascript\">                require([\"plotly\"], function(Plotly) {                    window.PLOTLYENV=window.PLOTLYENV || {};                                    if (document.getElementById(\"383a0c96-0da8-4710-8865-0925f774afd9\")) {                    Plotly.newPlot(                        \"383a0c96-0da8-4710-8865-0925f774afd9\",                        [{\"alignmentgroup\":\"True\",\"hovertemplate\":\"WORKSITE_CITY=%{x}\\u003cbr\\u003eTOTAL_WORKER_POSITIONS=%{y}\\u003cextra\\u003e\\u003c\\u002fextra\\u003e\",\"legendgroup\":\"\",\"marker\":{\"color\":\"#636efa\",\"pattern\":{\"shape\":\"\"}},\"name\":\"\",\"offsetgroup\":\"\",\"orientation\":\"v\",\"showlegend\":false,\"textposition\":\"auto\",\"x\":[\"Wilmington\",\"Wilmington\",\"Columbus\",\"Columbus\",\"Columbus\",\"Plano\",\"Jersey City\",\"Jersey City\",\"Jersey City\",\"Jersey City\",\"New York\",\"Seattle\",\"Wilmington\",\"Jersey City\",\"McLean\",\"Jersey City\",\"Glen Allen\",\"Jersey City\",\"Jersey City\",\"Plano\",\"Jersey City\",\"New York\",\"Wilmington\",\"Jersey City\",\"Wilmington\",\"Jersey City\",\"New York\",\"Jersey City\",\"Dublin\",\"Columbus\",\"Tampa\",\"Tampa\",\"Plano\",\"New York\",\"Plano\",\"Tampa\",\"Plano\",\"Plano\",\"Plano\",\"Plano\",\"Jersey City\",\"Stamford\",\"Stamford\",\"New York\",\"Columbus\",\"New York\",\"Jersey City\",\"New York\",\"Columbus\",\"New York\",\"Jersey City\",\"Chicago\",\"Columbus\",\"Plano\",\"Plano\",\"Jersey City\",\"Jersey City\",\"Plano\",\"Plano\",\"Wilmington\",\"New York\",\"Plano\",\"Columbus\",\"Plano\",\"Plano\",\"Jersey City\",\"Columbus\",\"Wilmington\",\"Plano\",\"Jersey City\",\"Plano\",\"Wilmington\",\"Jersey City\",\"Plano\",\"Holladay\",\"Plano\",\"Plano\",\"Plano\",\"Columbus\",\"Tampa\",\"Jersey City\",\"Plano\",\"Jersey City\",\"Plano\",\"Jersey City\",\"Jersey City\",\"New York\",\"Plano\",\"Jersey City\",\"New York\",\"Jersey City\",\"Chicago\",\"New York\",\"Jersey City\",\"Jersey City\",\"New York\",\"Seattle\",\"Columbus\",\"Jersey City\",\"Jersey City\",\"Jersey City\",\"Jersey City\",\"Columbus\",\"Jersey City\",\"Seattle\",\"Jersey City\",\"Plano\",\"Plano\",\"Seattle\",\"Tampa\",\"Seattle\",\"Jersey City\",\"Plano\",\"Jersey City\",\"New York\",\"Plano\",\"Tampa\",\"Jersey City\",\"Westerville\",\"Wilmington\",\"Jersey City\",\"Chicago\",\"Jersey City\",\"New York\",\"Newark\",\"Columbus\",\"Columbus\",\"Columbus\",\"Seattle\",\"Brooklyn\",\"Plano\",\"Wilmington\",\"Wilmington\",\"New York\",\"Jersey City\",\"Jersey City\",\"Columbus\",\"Chicago\",\"Wilmington\",\"Wilmington\",\"Tampa\",\"Seattle\",\"Plano\",\"Westerville\",\"Seattle\",\"Wilmington\",\"Plano\",\"Seattle\",\"Jersey City\",\"Wilmington\",\"Wilmington\",\"Plano\",\"Plano\",\"Chicago\",\"Jersey City\",\"Jersey City\",\"Tampa\",\"Columbus\",\"Columbus\",\"Plano\",\"Plano\",\"Wilmington\",\"Jersey City\",\"Holladay\",\"Jersey City\",\"New York\",\"Columbus\",\"Jersey City\",\"Jersey City\",\"New York\",\"Plano\",\"New York\",\"Plano\",\"New York\",\"New York\",\"New York\",\"New York\",\"New York\",\"Columbus\",\"Houston\",\"New York\",\"Wilmington\",\"New York\",\"New Castle\",\"Brooklyn\",\"Plano\",\"Columbus\",\"Jersey City\",\"Columbus\",\"Chicago\",\"Plano\",\"New York\",\"Plano\",\"Newark\",\"Jersey City\",\"Plano\",\"Plano\",\"Jersey City\",\"Columbus\",\"New York\",\"Wilmington\",\"Wilmington\",\"Wilmington\",\"Columbus\",\"Plano\",\"Plano\",\"Plano\",\"Wilmington\",\"Columbus\",\"Houston\",\"New York\",\"Plano\",\"Chicago\",\"Wilmington\",\"Wilmington\",\"Wilmington\",\"Newark\",\"Wilmington\",\"New York\",\"Columbus\",\"Chicago\",\"San Francisco\",\"Wilmington\",\"Plano\",\"Westerville\",\"Tampa\",\"Plano\",\"Tampa\",\"Plano\",\"Plano\",\"Plano\",\"Plano\",\"Plano\",\"Jersey City\",\"Columbus\",\"Wilmington\",\"New York\",\"Seattle\",\"Jersey City\",\"Plano\",\"New York\",\"Columbus\",\"Newark\",\"Plano\",\"Jersey City\",\"Plano\",\"New York\",\"New York\",\"Wilmington\",\"New York\",\"Chicago\",\"Wilmington\",\"Wilmington\",\"Wilmington\",\"New York\",\"New York\",\"Wilmington\",\"Columbus\",\"Jersey City\",\"Columbus\",\"Columbus\",\"Columbus\",\"Jersey City\",\"Newark\",\"Seattle\",\"Jersey City\",\"Jersey City\",\"Plano\",\"Columbus\",\"Columbus\",\"Plano\",\"Wilmington\",\"Westerville\",\"Jersey City\",\"Columbus\",\"Wilmington\",\"Plano\",\"Plano\",\"Houston\",\"Jersey City\",\"Jersey City\",\"Columbus\",\"Palo Alto\",\"Columbus\",\"Palo Alto\",\"Wilmington\",\"Wilmington\",\"Jersey City\",\"Jersey City\",\"Jersey City\",\"Newark\",\"Jersey City\",\"New York\",\"Newark\",\"Houston\",\"New York\",\"Houston\",\"Jersey City\",\"Columbus\",\"Plano\",\"New York\",\"New York\",\"Columbus\",\"New York\",\"Plano\",\"New York\",\"New York\",\"Houston\",\"Houston\",\"Chicago\",\"Wilmington\",\"Wilmington\",\"Chicago\",\"Palo Alto\",\"Jersey City\",\"Jersey City\",\"Chicago\",\"Boston\",\"Chicago\",\"Tampa\",\"Wilmington\",\"Plano\",\"Houston\",\"Plano\",\"Houston\",\"Plano\",\"Plano\",\"Plano\",\"Plano\",\"Columbus\",\"Newark\",\"Plano\",\"New York\",\"Plano\",\"Plano\",\"Plano\",\"Palo Alto\",\"Plano\",\"Plano\",\"New York\",\"Plano\",\"San Francisco\",\"Seattle\",\"Plano\",\"Palo Alto\",\"Plano\",\"Plano\",\"Plano\",\"Wilmington\",\"Plano\",\"Plano\",\"Plano\",\"Plano\",\"Plano\",\"New York\",\"Plano\",\"Plano\",\"Plano\",\"Plano\",\"Columbus\",\"Jersey City\",\"Columbus\",\"Columbus\",\"Columbus\",\"Columbus\",\"Columbus\",\"Wilmington\",\"Palo Alto\",\"Newark\",\"Plano\",\"Plano\",\"New York\",\"Plano\",\"Columbus\",\"Wilmington\",\"Tampa\",\"Wilmington\",\"Wilmington\",\"Wilmington\",\"Tampa\",\"Columbus\",\"Brentwood\",\"Columbus\",\"Columbus\",\"Plano\",\"Columbus\",\"Plano\",\"Tampa\",\"Plano\",\"Plano\",\"Plano\",\"Columbus\",\"Columbus\",\"Seattle\",\"Columbus\",\"Wilmington\",\"Jersey City\",\"Jersey City\",\"Tampa\",\"Plano\",\"Plano\",\"Plano\",\"Plano\",\"Wilmington\",\"Tampa\",\"Plano\",\"Plano\",\"Plano\",\"Palo Alto\",\"PLANO\",\"Jersey City\",\"Jersey City\",\"Columbus\",\"Wilmington\",\"Wilmington\",\"Plano\",\"Plano\",\"Plano\",\"Wilmington\",\"Plano\",\"New York\",\"New York\",\"Austin\",\"Plano\",\"Plano\",\"Columbus\",\"Columbus\",\"Columbus\",\"Plano\",\"Plano\",\"Plano\",\"Columbus\",\"Wilmington\",\"Houston\",\"Jersey City\",\"Jersey City\",\"Westerville\",\"Wilmington\",\"Jersey City\",\"Columbus\",\"PLANO\",\"Plano\",\"Columbus\",\"Plano\",\"Plano\",\"Columbus\",\"Jersey City\",\"Tampa\",\"Jersey City\",\"Plano\",\"Plano\",\"Plano\",\"Wilmington\",\"Plano\",\"Plano\",\"Plano\",\"Plano\",\"Plano\",\"Tampa\",\"Columbus\",\"Tampa\",\"Jersey City\",\"Tampa\",\"Wilmington\",\"Plano\",\"Salt Lake City\",\"Plano\",\"Plano\",\"Jersey City\",\"Columbus\",\"Jersey City\",\"Plano\",\"Wilmington\",\"Wilmington\",\"Westerville\",\"Chicago\",\"Jersey City\",\"Tampa\",\"Jersey City\",\"Wilmington\",\"Jersey City\",\"Brooklyn\",\"Tampa\",\"Wilmington\",\"Wilmington\",\"Plano\",\"New York\",\"Plano\",\"New York\",\"New York\",\"Wilmington\",\"Columbus\",\"Houston\",\"Plano\",\"Plano\",\"Wilmington\",\"Plano\",\"Plano\",\"Plano\",\"Plano\",\"Plano\",\"Columbus\",\"Plano\",\"Tampa\",\"Plano\",\"Wilmington\",\"Plano\",\"Wilmington\",\"Plano\",\"Plano\",\"Plano\",\"Columbus\",\"New York\",\"New York\",\"Tampa\",\"Plano\",\"Plano\",\"Plano\",\"Plano\",\"Houston\",\"Jersey City\",\"Apex\",\"Plano\",\"Plano\",\"Houston\",\"Tampa\",\"Jersey City\",\"Jersey City\",\"Glen Allen\",\"Plano\",\"Plano\",\"Plano\",\"Jersey City\",\"Jersey City\",\"New York\",\"Tampa\",\"New York\",\"New York\",\"Chicago\",\"Columbus\",\"Columbus\",\"New York\",\"New York\",\"Plano\",\"Columbus\",\"Plano\",\"Plano\",\"Plano\",\"Plano\",\"New York\",\"Newark\",\"Plano\",\"Jersey City\",\"Wilmington\",\"Jersey City\",\"Jersey City\",\"Tysons\",\"New York\",\"Wilmington\",\"Houston\",\"Houston\",\"Wilmington\",\"Miami\",\"Wilmington\",\"Columbus\",\"Plano\",\"Wilmington\",\"Columbus\",\"Wilmington\",\"Jersey City\",\"Jersey City\",\"New York\",\"New York\",\"New York\",\"Jersey City\",\"Houston\",\"Plano\",\"Chicago\",\"New York\",\"Tampa\",\"Plano\",\"Plano\",\"Jersey City\",\"Columbus\",\"Chicago\",\"Tampa\",\"Newark\",\"New York\",\"Palo Alto\",\"Chicago\",\"Jersey City\",\"New York\",\"Plano\",\"New York\",\"New York\",\"Chicago\",\"Tampa\",\"Tysons\",\"New York\",\"Jersey City\",\"Plano\",\"Jersey City\",\"New York\",\"Fremont\",\"Wilmington\",\"Plano\",\"Jersey City\",\"Plano\",\"Plano\",\"Plano\",\"Plano\",\"Plano\",\"Plano\",\"Plano\",\"Plano\",\"Plano\",\"Plano\",\"Plano\",\"Plano\",\"Newark\",\"Plano\",\"Chicago\",\"Houston\",\"New York\",\"Jersey City\",\"New York\",\"New York\",\"New York\",\"Plano\",\"Plano\",\"Plano\",\"Plano\",\"Plano\",\"Jersey City\",\"Jersey City\",\"Plano\",\"Jersey City\",\"Jersey City\",\"Plano\",\"New York\",\"Jersey City\",\"Jersey City\",\"Jersey City\",\"Jersey City\",\"Plano\",\"Jersey City\",\"Plano\",\"Plano\",\"San Francisco\",\"Tampa\",\"Tampa\",\"Plano\",\"Tampa\",\"Jersey City\",\"New York\",\"Plano\",\"Jersey City\",\"Plano\",\"Plano\",\"Chicago\",\"Jersey City\",\"Plano\",\"Plano\",\"Chicago\",\"Columbus\",\"Palo Alto\",\"Jersey City\",\"Jersey City\",\"Columbus\",\"Houston\",\"New York\",\"Jersey City\",\"Houston\",\"Houston\",\"Jersey City\",\"Jersey City\",\"Plano\",\"Lathrop\",\"Columbus\",\"Jersey City\",\"Miami\",\"Jersey City\",\"Chicago\",\"Jersey City\",\"Chicago\",\"Columbus\",\"Jersey City\",\"Tampa\",\"Columbus\",\"Columbus\",\"Houston\",\"Columbus\",\"Jersey City\",\"Columbus \",\"New York\",\"Tampa\",\"New York\",\"Jersey City\",\"Plano\",\"Palo Alto\",\"New York\",\"Columbus\",\"New York\",\"New York\",\"Chicago\",\"New York\",\"New York\",\"New York\",\"Jersey City\",\"Wilmington\",\"Columbus\",\"Palo Alto\",\"New York\",\"Houston\",\"Plano\",\"New York\",\"New York\",\"Jersey City\",\"New York\",\"New York\",\"Plano\",\"Houston\",\"Houston\",\"New York\",\"Jersey City\",\"Plano\",\"Chicago\",\"New York\",\"Newark\",\"Jersey City\",\"Columbus\",\"Boston\",\"Plano\",\"New York\",\"New York\",\"Wilmington\",\"Jersey City\",\"Tampa\",\"Wilmington\",\"New York\",\"Plano\",\"Plano\",\"Jersey City\",\"Jersey City\",\"Jersey City\",\"Jersey City\",\"Jersey City\",\"Jersey City\",\"Jersey City\",\"New York\",\"Wilmington\",\"New York\",\"Wilmington\",\"New York\",\"Newark\",\"New York\",\"New York\",\"Jersey City\",\"Columbus\",\"Jersey City\",\"Jersey City\",\"New York\",\"Columbus\",\"Houston\",\"New York\",\"Columbus\",\"Jersey City\",\"New York\",\"Plano\",\"Chicago\",\"Plano\",\"Palo Alto\",\"Plano\",\"Plano\",\"New York\",\"Seattle\",\"New York\",\"Wilmington\",\"Chicago\",\"Fremont\",\"Jersey City\",\"Columbus\",\"Columbus\",\"Plano\",\"Columbus\",\"Plano\",\"Columbus\",\"Chicago\",\"New York\",\"Columbus\",\"Columbus\",\"Columbus\",\"Columbus\",\"Plano\",\"Plano\",\"Columbus\",\"Jersey City\",\"Jersey City\",\"Jersey City\",\"Jersey City\",\"Jersey City\",\"Wilmington\",\"Wilmington\",\"Wilmington\",\"New York\",\"New York\",\"Palo Alto\",\"New York\",\"Brooklyn\",\"Elgin\",\"Columbus\",\"Newark\",\"Columbus\",\"New York\",\"Plano\",\"Wilmington\",\"Columbus\",\"Columbus\",\"Plano\",\"Plano\",\"New York\",\"New York\",\"Plano\",\"New York\",\"Seattle\",\"Plano\",\"Columbus\",\"Plano\",\"Plano\",\"Plano\",\"Columbus\",\"Chicago\",\"Columbus\",\"New York\",\"Columbus\",\"Jersey City\",\"New York\",\"Newark\",\"Columbus\",\"Plano\",\"New York\",\"Chicago\",\"Tampa\",\"Seattle\",\"Houston\",\"New York\",\"Chicago\",\"Chicago\",\"New York\",\"New York\",\"Seattle\",\"Houston\",\"Brooklyn\",\"New York\",\"Houston\",\"Wilmington\",\"Columbus\",\"Columbus\",\"New York\",\"Chicago\",\"Jersey City\",\"Columbus\",\"Columbus\",\"Jersey City\",\"New York\",\"Wilmington\",\"Columbus\",\"Plano\",\"New York\",\"Columbus\",\"Columbus\",\"New York\",\"Columbus\",\"Chicago\",\"New York\",\"New York\",\"Columbus\",\"Columbus\",\"Plano\",\"Chicago\",\"New York\",\"New York\",\"New York\",\"New York\",\"Columbus\",\"Plano\",\"Plano\",\"Palo Alto\",\"Plano\",\"New York\",\"Columbus\",\"Columbus\",\"Wilmington\",\"Jersey City\",\"Jersey City\",\"Wilmington\",\"Columbus\",\"Jersey City\",\"New York\",\"Tampa\",\"New York\",\"Columbus\",\"New York\",\"Wilmington\",\"Plano\",\"Columbus\",\"Plano\",\"New York\",\"Plano\",\"Seattle\",\"Chicago\",\"Plano\",\"Jersey City\",\"Columbus\",\"Jersey City\",\"Houston\",\"Columbus\",\"Jersey City\",\"Palo Alto\",\"San Francisco\",\"Plano\",\"Columbus\",\"Jersey City\",\"Plano\",\"Palo Alto\",\"Plano\",\"Jersey City\",\"San Francisco\",\"New York\",\"Plano\",\"Columbus\",\"New York\",\"Plano\",\"Plano\",\"Plano\",\"Wilmington\",\"Plano\",\"Columbus\",\"Columbus\",\"Plano\",\"Plano\",\"New York\",\"Plano\",\"Plano\",\"New York\",\"Wilmington\",\"New York\",\"Wilmington\",\"Jersey City\",\"Columbus\",\"Wilmington\",\"Plano\",\"Columbus\",\"Jersey City\",\"Columbus\",\"Wilmington\",\"Plano\",\"Wilmington\",\"Wilmington\",\"Wilmington\",\"Columbus\",\"Plano\",\"New York\",\"Plano\",\"New York\",\"Plano\",\"Wilmington\",\"Plano\",\"Plano\",\"Elgin\",\"Plano\",\"Columbus\",\"Columbus\",\"Plano\",\"Jersey City\",\"Wilmington\",\"Wilmington\",\"Wilmington\",\"Wilmington\",\"Seattle\",\"New York\",\"Columbus\",\"Seattle\",\"Columbus\",\"Plano\",\"Columbus\",\"Tampa\",\"Chicago\",\"Jersey City\",\"Jersey City\",\"Jersey City\",\"Jersey City\",\"Boston\",\"Wilmington\",\"New York\",\"Westerville\",\"Jersey City\",\"Plano\",\"Plano\",\"Plano\",\"Plano\",\"Plano\",\"Plano\",\"Jersey City\",\"Atlanta\",\"New York\",\"Columbus\",\"Jersey City\",\"Columbus\",\"Wilmington\",\"Wilmington\",\"Plano\",\"Elgin\",\"Newark\",\"New York\",\"New York\",\"New York\",\"Jersey City\",\"New York\",\"New York\",\"Houston\",\"Brooklyn\",\"Jersey City\",\"Plano\",\"New York\",\"Plano\",\"New York\",\"Jersey City\",\"New York\",\"Tampa\",\"New York\",\"New York\",\"New York\",\"New York\",\"Columbus\",\"New York\",\"New York\",\"New York\",\"Plano\",\"New York\",\"New York\",\"New York\",\"Newark\",\"New York\",\"New York\",\"Newark\",\"New York\",\"New York\",\"Houston\",\"Palo Alto\",\"Brooklyn\",\"New York\",\"New York\"],\"xaxis\":\"x\",\"y\":[1,1,1,1,1,1,1,1,1,1,1,1,1,1,1,1,1,1,1,1,1,1,1,1,1,1,1,1,1,1,1,1,1,1,1,1,1,1,1,1,1,1,1,1,1,1,1,1,1,1,1,1,1,1,1,1,1,1,1,1,1,1,1,1,1,1,1,1,1,1,1,1,1,1,1,1,1,1,1,1,1,1,1,1,1,1,1,1,1,1,1,1,1,1,1,1,1,1,1,1,1,1,1,1,1,1,1,1,1,1,1,1,1,1,1,1,1,1,1,1,1,1,1,1,1,1,1,1,1,1,1,1,1,1,1,1,1,1,1,1,1,1,1,1,1,1,1,1,1,1,1,1,1,1,1,1,1,1,1,1,1,1,1,1,1,1,1,1,1,1,1,1,1,1,1,1,1,1,1,1,1,1,1,1,1,1,1,1,1,1,1,1,1,1,1,1,1,1,1,1,1,1,1,1,1,1,1,1,1,1,1,1,1,1,1,1,1,1,1,1,1,1,1,1,1,1,1,1,1,1,1,1,1,1,1,1,1,1,1,1,1,1,1,1,1,1,1,1,1,1,1,1,1,1,1,1,1,1,1,1,1,1,1,1,1,1,1,1,1,1,1,1,1,1,1,1,1,1,1,1,1,1,1,1,1,1,1,1,1,1,1,1,1,1,1,1,1,1,1,1,1,1,1,1,1,1,1,1,1,1,1,1,1,1,1,1,1,1,1,1,1,1,1,1,1,1,1,1,1,1,1,1,1,1,1,1,1,1,1,1,1,1,1,1,1,1,1,1,1,1,1,1,1,1,1,1,1,1,1,1,1,1,1,1,1,1,1,1,1,1,1,1,1,1,1,1,1,1,1,1,1,1,1,1,1,1,1,1,1,1,1,1,1,1,1,1,1,1,1,1,1,1,1,1,1,1,1,1,1,1,1,1,1,1,1,1,1,1,1,1,1,1,1,1,1,1,1,1,1,1,1,1,1,1,1,1,1,1,1,1,1,1,1,1,1,1,1,1,1,1,1,1,1,1,1,1,1,1,1,1,1,1,1,1,1,1,1,1,1,1,1,1,1,1,1,1,1,1,1,1,1,1,1,1,1,1,1,1,1,1,1,1,1,1,1,1,1,1,1,1,1,1,1,1,1,1,1,1,1,1,1,1,1,1,1,1,1,1,1,1,1,1,1,1,1,1,1,1,1,1,1,1,1,1,1,1,1,1,1,1,1,1,1,1,1,1,1,1,1,1,1,1,1,1,1,1,1,1,1,1,1,1,1,1,1,1,1,1,1,1,1,1,1,1,1,1,1,1,1,1,1,1,1,1,1,1,1,1,1,1,1,1,1,1,1,1,1,1,1,1,1,1,1,1,1,1,1,1,1,1,1,1,1,1,1,1,1,1,1,1,1,1,1,1,1,1,1,1,1,1,1,1,1,1,1,1,1,1,1,1,1,1,1,1,1,1,1,1,1,1,1,1,1,1,1,1,1,1,1,1,1,1,1,1,1,1,1,1,1,1,1,1,1,1,1,1,1,1,1,1,1,1,1,1,1,1,1,1,1,1,1,1,1,1,1,1,1,1,1,1,1,1,1,1,1,1,1,1,1,1,1,1,1,1,1,1,1,1,1,1,1,1,1,1,1,1,1,1,1,1,1,1,1,1,1,1,1,1,1,1,1,1,1,1,1,1,1,1,1,1,1,1,1,1,1,1,1,1,1,1,1,1,1,1,1,1,1,1,1,1,1,1,1,1,1,1,1,1,1,1,1,1,1,1,1,1,1,1,1,1,1,1,1,1,1,1,1,1,1,1,1,1,1,1,1,1,1,1,1,1,1,1,1,1,1,1,1,1,1,1,1,1,1,1,1,1,1,1,1,1,1,1,1,1,1,1,1,1,1,1,1,1,1,1,1,1,1,1,1,1,1,1,1,1,1,1,1,1,1,1,1,1,1,1,1,1,1,1,1,1,1,1,1,1,1,1,1,1,1,1,1,1,1,1,1,1,1,1,1,1,1,1,1,1,1,1,1,1,1,1,1,1,1,1,1,1,1,1,1,1,1,1,1,1,1,1,1,1,1,1,1,1,1,1,1,1,1,1,1,1,1,1,1,1,1,1,1,1,1,1,1,1,1,1,1,1,1,1,1,1,1,1,1,1,1,1,1,1,1,1,1,1,1,1,1,1,1,1,1,1,1,1,1,1,1,1,1,1,1,1,1,1,1,1,1,1,1,1,1,1,1,1,1,1,1,1,1,1,1,1,1,1,1,1,1,1,1,1,1,1,1,1,1,1,1,1,1,1,1,1,1,1,1,1,1,1,1,1,1,1,1,1,1,1,1,1,1,1,1,1,1,1,1,1,1,1,1,1,1,1,1,1,1],\"yaxis\":\"y\",\"type\":\"bar\"}],                        {\"template\":{\"data\":{\"histogram2dcontour\":[{\"type\":\"histogram2dcontour\",\"colorbar\":{\"outlinewidth\":0,\"ticks\":\"\"},\"colorscale\":[[0.0,\"#0d0887\"],[0.1111111111111111,\"#46039f\"],[0.2222222222222222,\"#7201a8\"],[0.3333333333333333,\"#9c179e\"],[0.4444444444444444,\"#bd3786\"],[0.5555555555555556,\"#d8576b\"],[0.6666666666666666,\"#ed7953\"],[0.7777777777777778,\"#fb9f3a\"],[0.8888888888888888,\"#fdca26\"],[1.0,\"#f0f921\"]]}],\"choropleth\":[{\"type\":\"choropleth\",\"colorbar\":{\"outlinewidth\":0,\"ticks\":\"\"}}],\"histogram2d\":[{\"type\":\"histogram2d\",\"colorbar\":{\"outlinewidth\":0,\"ticks\":\"\"},\"colorscale\":[[0.0,\"#0d0887\"],[0.1111111111111111,\"#46039f\"],[0.2222222222222222,\"#7201a8\"],[0.3333333333333333,\"#9c179e\"],[0.4444444444444444,\"#bd3786\"],[0.5555555555555556,\"#d8576b\"],[0.6666666666666666,\"#ed7953\"],[0.7777777777777778,\"#fb9f3a\"],[0.8888888888888888,\"#fdca26\"],[1.0,\"#f0f921\"]]}],\"heatmap\":[{\"type\":\"heatmap\",\"colorbar\":{\"outlinewidth\":0,\"ticks\":\"\"},\"colorscale\":[[0.0,\"#0d0887\"],[0.1111111111111111,\"#46039f\"],[0.2222222222222222,\"#7201a8\"],[0.3333333333333333,\"#9c179e\"],[0.4444444444444444,\"#bd3786\"],[0.5555555555555556,\"#d8576b\"],[0.6666666666666666,\"#ed7953\"],[0.7777777777777778,\"#fb9f3a\"],[0.8888888888888888,\"#fdca26\"],[1.0,\"#f0f921\"]]}],\"heatmapgl\":[{\"type\":\"heatmapgl\",\"colorbar\":{\"outlinewidth\":0,\"ticks\":\"\"},\"colorscale\":[[0.0,\"#0d0887\"],[0.1111111111111111,\"#46039f\"],[0.2222222222222222,\"#7201a8\"],[0.3333333333333333,\"#9c179e\"],[0.4444444444444444,\"#bd3786\"],[0.5555555555555556,\"#d8576b\"],[0.6666666666666666,\"#ed7953\"],[0.7777777777777778,\"#fb9f3a\"],[0.8888888888888888,\"#fdca26\"],[1.0,\"#f0f921\"]]}],\"contourcarpet\":[{\"type\":\"contourcarpet\",\"colorbar\":{\"outlinewidth\":0,\"ticks\":\"\"}}],\"contour\":[{\"type\":\"contour\",\"colorbar\":{\"outlinewidth\":0,\"ticks\":\"\"},\"colorscale\":[[0.0,\"#0d0887\"],[0.1111111111111111,\"#46039f\"],[0.2222222222222222,\"#7201a8\"],[0.3333333333333333,\"#9c179e\"],[0.4444444444444444,\"#bd3786\"],[0.5555555555555556,\"#d8576b\"],[0.6666666666666666,\"#ed7953\"],[0.7777777777777778,\"#fb9f3a\"],[0.8888888888888888,\"#fdca26\"],[1.0,\"#f0f921\"]]}],\"surface\":[{\"type\":\"surface\",\"colorbar\":{\"outlinewidth\":0,\"ticks\":\"\"},\"colorscale\":[[0.0,\"#0d0887\"],[0.1111111111111111,\"#46039f\"],[0.2222222222222222,\"#7201a8\"],[0.3333333333333333,\"#9c179e\"],[0.4444444444444444,\"#bd3786\"],[0.5555555555555556,\"#d8576b\"],[0.6666666666666666,\"#ed7953\"],[0.7777777777777778,\"#fb9f3a\"],[0.8888888888888888,\"#fdca26\"],[1.0,\"#f0f921\"]]}],\"mesh3d\":[{\"type\":\"mesh3d\",\"colorbar\":{\"outlinewidth\":0,\"ticks\":\"\"}}],\"scatter\":[{\"fillpattern\":{\"fillmode\":\"overlay\",\"size\":10,\"solidity\":0.2},\"type\":\"scatter\"}],\"parcoords\":[{\"type\":\"parcoords\",\"line\":{\"colorbar\":{\"outlinewidth\":0,\"ticks\":\"\"}}}],\"scatterpolargl\":[{\"type\":\"scatterpolargl\",\"marker\":{\"colorbar\":{\"outlinewidth\":0,\"ticks\":\"\"}}}],\"bar\":[{\"error_x\":{\"color\":\"#2a3f5f\"},\"error_y\":{\"color\":\"#2a3f5f\"},\"marker\":{\"line\":{\"color\":\"#E5ECF6\",\"width\":0.5},\"pattern\":{\"fillmode\":\"overlay\",\"size\":10,\"solidity\":0.2}},\"type\":\"bar\"}],\"scattergeo\":[{\"type\":\"scattergeo\",\"marker\":{\"colorbar\":{\"outlinewidth\":0,\"ticks\":\"\"}}}],\"scatterpolar\":[{\"type\":\"scatterpolar\",\"marker\":{\"colorbar\":{\"outlinewidth\":0,\"ticks\":\"\"}}}],\"histogram\":[{\"marker\":{\"pattern\":{\"fillmode\":\"overlay\",\"size\":10,\"solidity\":0.2}},\"type\":\"histogram\"}],\"scattergl\":[{\"type\":\"scattergl\",\"marker\":{\"colorbar\":{\"outlinewidth\":0,\"ticks\":\"\"}}}],\"scatter3d\":[{\"type\":\"scatter3d\",\"line\":{\"colorbar\":{\"outlinewidth\":0,\"ticks\":\"\"}},\"marker\":{\"colorbar\":{\"outlinewidth\":0,\"ticks\":\"\"}}}],\"scattermapbox\":[{\"type\":\"scattermapbox\",\"marker\":{\"colorbar\":{\"outlinewidth\":0,\"ticks\":\"\"}}}],\"scatterternary\":[{\"type\":\"scatterternary\",\"marker\":{\"colorbar\":{\"outlinewidth\":0,\"ticks\":\"\"}}}],\"scattercarpet\":[{\"type\":\"scattercarpet\",\"marker\":{\"colorbar\":{\"outlinewidth\":0,\"ticks\":\"\"}}}],\"carpet\":[{\"aaxis\":{\"endlinecolor\":\"#2a3f5f\",\"gridcolor\":\"white\",\"linecolor\":\"white\",\"minorgridcolor\":\"white\",\"startlinecolor\":\"#2a3f5f\"},\"baxis\":{\"endlinecolor\":\"#2a3f5f\",\"gridcolor\":\"white\",\"linecolor\":\"white\",\"minorgridcolor\":\"white\",\"startlinecolor\":\"#2a3f5f\"},\"type\":\"carpet\"}],\"table\":[{\"cells\":{\"fill\":{\"color\":\"#EBF0F8\"},\"line\":{\"color\":\"white\"}},\"header\":{\"fill\":{\"color\":\"#C8D4E3\"},\"line\":{\"color\":\"white\"}},\"type\":\"table\"}],\"barpolar\":[{\"marker\":{\"line\":{\"color\":\"#E5ECF6\",\"width\":0.5},\"pattern\":{\"fillmode\":\"overlay\",\"size\":10,\"solidity\":0.2}},\"type\":\"barpolar\"}],\"pie\":[{\"automargin\":true,\"type\":\"pie\"}]},\"layout\":{\"autotypenumbers\":\"strict\",\"colorway\":[\"#636efa\",\"#EF553B\",\"#00cc96\",\"#ab63fa\",\"#FFA15A\",\"#19d3f3\",\"#FF6692\",\"#B6E880\",\"#FF97FF\",\"#FECB52\"],\"font\":{\"color\":\"#2a3f5f\"},\"hovermode\":\"closest\",\"hoverlabel\":{\"align\":\"left\"},\"paper_bgcolor\":\"white\",\"plot_bgcolor\":\"#E5ECF6\",\"polar\":{\"bgcolor\":\"#E5ECF6\",\"angularaxis\":{\"gridcolor\":\"white\",\"linecolor\":\"white\",\"ticks\":\"\"},\"radialaxis\":{\"gridcolor\":\"white\",\"linecolor\":\"white\",\"ticks\":\"\"}},\"ternary\":{\"bgcolor\":\"#E5ECF6\",\"aaxis\":{\"gridcolor\":\"white\",\"linecolor\":\"white\",\"ticks\":\"\"},\"baxis\":{\"gridcolor\":\"white\",\"linecolor\":\"white\",\"ticks\":\"\"},\"caxis\":{\"gridcolor\":\"white\",\"linecolor\":\"white\",\"ticks\":\"\"}},\"coloraxis\":{\"colorbar\":{\"outlinewidth\":0,\"ticks\":\"\"}},\"colorscale\":{\"sequential\":[[0.0,\"#0d0887\"],[0.1111111111111111,\"#46039f\"],[0.2222222222222222,\"#7201a8\"],[0.3333333333333333,\"#9c179e\"],[0.4444444444444444,\"#bd3786\"],[0.5555555555555556,\"#d8576b\"],[0.6666666666666666,\"#ed7953\"],[0.7777777777777778,\"#fb9f3a\"],[0.8888888888888888,\"#fdca26\"],[1.0,\"#f0f921\"]],\"sequentialminus\":[[0.0,\"#0d0887\"],[0.1111111111111111,\"#46039f\"],[0.2222222222222222,\"#7201a8\"],[0.3333333333333333,\"#9c179e\"],[0.4444444444444444,\"#bd3786\"],[0.5555555555555556,\"#d8576b\"],[0.6666666666666666,\"#ed7953\"],[0.7777777777777778,\"#fb9f3a\"],[0.8888888888888888,\"#fdca26\"],[1.0,\"#f0f921\"]],\"diverging\":[[0,\"#8e0152\"],[0.1,\"#c51b7d\"],[0.2,\"#de77ae\"],[0.3,\"#f1b6da\"],[0.4,\"#fde0ef\"],[0.5,\"#f7f7f7\"],[0.6,\"#e6f5d0\"],[0.7,\"#b8e186\"],[0.8,\"#7fbc41\"],[0.9,\"#4d9221\"],[1,\"#276419\"]]},\"xaxis\":{\"gridcolor\":\"white\",\"linecolor\":\"white\",\"ticks\":\"\",\"title\":{\"standoff\":15},\"zerolinecolor\":\"white\",\"automargin\":true,\"zerolinewidth\":2},\"yaxis\":{\"gridcolor\":\"white\",\"linecolor\":\"white\",\"ticks\":\"\",\"title\":{\"standoff\":15},\"zerolinecolor\":\"white\",\"automargin\":true,\"zerolinewidth\":2},\"scene\":{\"xaxis\":{\"backgroundcolor\":\"#E5ECF6\",\"gridcolor\":\"white\",\"linecolor\":\"white\",\"showbackground\":true,\"ticks\":\"\",\"zerolinecolor\":\"white\",\"gridwidth\":2},\"yaxis\":{\"backgroundcolor\":\"#E5ECF6\",\"gridcolor\":\"white\",\"linecolor\":\"white\",\"showbackground\":true,\"ticks\":\"\",\"zerolinecolor\":\"white\",\"gridwidth\":2},\"zaxis\":{\"backgroundcolor\":\"#E5ECF6\",\"gridcolor\":\"white\",\"linecolor\":\"white\",\"showbackground\":true,\"ticks\":\"\",\"zerolinecolor\":\"white\",\"gridwidth\":2}},\"shapedefaults\":{\"line\":{\"color\":\"#2a3f5f\"}},\"annotationdefaults\":{\"arrowcolor\":\"#2a3f5f\",\"arrowhead\":0,\"arrowwidth\":1},\"geo\":{\"bgcolor\":\"white\",\"landcolor\":\"#E5ECF6\",\"subunitcolor\":\"white\",\"showland\":true,\"showlakes\":true,\"lakecolor\":\"white\"},\"title\":{\"x\":0.05},\"mapbox\":{\"style\":\"light\"}}},\"xaxis\":{\"anchor\":\"y\",\"domain\":[0.0,1.0],\"title\":{\"text\":\"WORKSITE_CITY\"}},\"yaxis\":{\"anchor\":\"x\",\"domain\":[0.0,1.0],\"title\":{\"text\":\"TOTAL_WORKER_POSITIONS\"}},\"legend\":{\"tracegroupgap\":0},\"margin\":{\"t\":60},\"barmode\":\"relative\"},                        {\"responsive\": true}                    ).then(function(){\n                            \nvar gd = document.getElementById('383a0c96-0da8-4710-8865-0925f774afd9');\nvar x = new MutationObserver(function (mutations, observer) {{\n        var display = window.getComputedStyle(gd).display;\n        if (!display || display === 'none') {{\n            console.log([gd, 'removed!']);\n            Plotly.purge(gd);\n            observer.disconnect();\n        }}\n}});\n\n// Listen for the removal of the full notebook cells\nvar notebookContainer = gd.closest('#notebook-container');\nif (notebookContainer) {{\n    x.observe(notebookContainer, {childList: true});\n}}\n\n// Listen for the clearing of the current output cell\nvar outputEl = gd.closest('.output');\nif (outputEl) {{\n    x.observe(outputEl, {childList: true});\n}}\n\n                        })                };                });            </script>        </div>",
            "image/png": "[encoded data removed]"
          },
          "metadata": {}
        }
      ],
      "execution_count": 35
    },
    {
      "cell_type": "code",
      "source": "df.query('EMPLOYER_NAME.str.contains(\"JPMorgan|JP Morgan\", case=False).values and CASE_STATUS == \"Certified\" ',inplace=True)\ndf = df.groupby(['WORKSITE_STATE'])['TOTAL_WORKER_POSITIONS'].agg('sum').reset_index(name ='TOTAL POSITIONS').sort_values(by = ['TOTAL POSITIONS'], ascending=[False])\n",
      "metadata": {
        "trusted": true
      },
      "outputs": [],
      "execution_count": 37
    },
    {
      "cell_type": "code",
      "source": "fig = px.bar(df, x='WORKSITE_STATE', y='TOTAL POSITIONS')",
      "metadata": {
        "trusted": true
      },
      "outputs": [],
      "execution_count": 38
    },
    {
      "cell_type": "code",
      "source": "fig.show()",
      "metadata": {
        "trusted": true
      },
      "outputs": [
        {
          "output_type": "display_data",
          "data": {
            "application/vnd.plotly.v1+json": {
              "data": [
                {
                  "alignmentgroup": "True",
                  "hovertemplate": "WORKSITE_STATE=%{x}<br>TOTAL POSITIONS=%{y}<extra></extra>",
                  "legendgroup": "",
                  "marker": {
                    "color": "#636efa",
                    "pattern": {
                      "shape": ""
                    }
                  },
                  "name": "",
                  "offsetgroup": "",
                  "orientation": "v",
                  "showlegend": false,
                  "textposition": "auto",
                  "x": [
                    "TX",
                    "NY",
                    "NJ",
                    "OH",
                    "DE",
                    "FL",
                    "IL",
                    "CA",
                    "WA",
                    "VA",
                    "MA",
                    "UT",
                    "CT",
                    "GA",
                    "NC"
                  ],
                  "xaxis": "x",
                  "y": [
                    293,
                    178,
                    170,
                    146,
                    122,
                    41,
                    41,
                    27,
                    20,
                    5,
                    3,
                    3,
                    2,
                    1,
                    1
                  ],
                  "yaxis": "y",
                  "type": "bar"
                }
              ],
              "layout": {
                "template": {
                  "data": {
                    "histogram2dcontour": [
                      {
                        "type": "histogram2dcontour",
                        "colorbar": {
                          "outlinewidth": 0,
                          "ticks": ""
                        },
                        "colorscale": [
                          [
                            0,
                            "#0d0887"
                          ],
                          [
                            0.1111111111111111,
                            "#46039f"
                          ],
                          [
                            0.2222222222222222,
                            "#7201a8"
                          ],
                          [
                            0.3333333333333333,
                            "#9c179e"
                          ],
                          [
                            0.4444444444444444,
                            "#bd3786"
                          ],
                          [
                            0.5555555555555556,
                            "#d8576b"
                          ],
                          [
                            0.6666666666666666,
                            "#ed7953"
                          ],
                          [
                            0.7777777777777778,
                            "#fb9f3a"
                          ],
                          [
                            0.8888888888888888,
                            "#fdca26"
                          ],
                          [
                            1,
                            "#f0f921"
                          ]
                        ]
                      }
                    ],
                    "choropleth": [
                      {
                        "type": "choropleth",
                        "colorbar": {
                          "outlinewidth": 0,
                          "ticks": ""
                        }
                      }
                    ],
                    "histogram2d": [
                      {
                        "type": "histogram2d",
                        "colorbar": {
                          "outlinewidth": 0,
                          "ticks": ""
                        },
                        "colorscale": [
                          [
                            0,
                            "#0d0887"
                          ],
                          [
                            0.1111111111111111,
                            "#46039f"
                          ],
                          [
                            0.2222222222222222,
                            "#7201a8"
                          ],
                          [
                            0.3333333333333333,
                            "#9c179e"
                          ],
                          [
                            0.4444444444444444,
                            "#bd3786"
                          ],
                          [
                            0.5555555555555556,
                            "#d8576b"
                          ],
                          [
                            0.6666666666666666,
                            "#ed7953"
                          ],
                          [
                            0.7777777777777778,
                            "#fb9f3a"
                          ],
                          [
                            0.8888888888888888,
                            "#fdca26"
                          ],
                          [
                            1,
                            "#f0f921"
                          ]
                        ]
                      }
                    ],
                    "heatmap": [
                      {
                        "type": "heatmap",
                        "colorbar": {
                          "outlinewidth": 0,
                          "ticks": ""
                        },
                        "colorscale": [
                          [
                            0,
                            "#0d0887"
                          ],
                          [
                            0.1111111111111111,
                            "#46039f"
                          ],
                          [
                            0.2222222222222222,
                            "#7201a8"
                          ],
                          [
                            0.3333333333333333,
                            "#9c179e"
                          ],
                          [
                            0.4444444444444444,
                            "#bd3786"
                          ],
                          [
                            0.5555555555555556,
                            "#d8576b"
                          ],
                          [
                            0.6666666666666666,
                            "#ed7953"
                          ],
                          [
                            0.7777777777777778,
                            "#fb9f3a"
                          ],
                          [
                            0.8888888888888888,
                            "#fdca26"
                          ],
                          [
                            1,
                            "#f0f921"
                          ]
                        ]
                      }
                    ],
                    "heatmapgl": [
                      {
                        "type": "heatmapgl",
                        "colorbar": {
                          "outlinewidth": 0,
                          "ticks": ""
                        },
                        "colorscale": [
                          [
                            0,
                            "#0d0887"
                          ],
                          [
                            0.1111111111111111,
                            "#46039f"
                          ],
                          [
                            0.2222222222222222,
                            "#7201a8"
                          ],
                          [
                            0.3333333333333333,
                            "#9c179e"
                          ],
                          [
                            0.4444444444444444,
                            "#bd3786"
                          ],
                          [
                            0.5555555555555556,
                            "#d8576b"
                          ],
                          [
                            0.6666666666666666,
                            "#ed7953"
                          ],
                          [
                            0.7777777777777778,
                            "#fb9f3a"
                          ],
                          [
                            0.8888888888888888,
                            "#fdca26"
                          ],
                          [
                            1,
                            "#f0f921"
                          ]
                        ]
                      }
                    ],
                    "contourcarpet": [
                      {
                        "type": "contourcarpet",
                        "colorbar": {
                          "outlinewidth": 0,
                          "ticks": ""
                        }
                      }
                    ],
                    "contour": [
                      {
                        "type": "contour",
                        "colorbar": {
                          "outlinewidth": 0,
                          "ticks": ""
                        },
                        "colorscale": [
                          [
                            0,
                            "#0d0887"
                          ],
                          [
                            0.1111111111111111,
                            "#46039f"
                          ],
                          [
                            0.2222222222222222,
                            "#7201a8"
                          ],
                          [
                            0.3333333333333333,
                            "#9c179e"
                          ],
                          [
                            0.4444444444444444,
                            "#bd3786"
                          ],
                          [
                            0.5555555555555556,
                            "#d8576b"
                          ],
                          [
                            0.6666666666666666,
                            "#ed7953"
                          ],
                          [
                            0.7777777777777778,
                            "#fb9f3a"
                          ],
                          [
                            0.8888888888888888,
                            "#fdca26"
                          ],
                          [
                            1,
                            "#f0f921"
                          ]
                        ]
                      }
                    ],
                    "surface": [
                      {
                        "type": "surface",
                        "colorbar": {
                          "outlinewidth": 0,
                          "ticks": ""
                        },
                        "colorscale": [
                          [
                            0,
                            "#0d0887"
                          ],
                          [
                            0.1111111111111111,
                            "#46039f"
                          ],
                          [
                            0.2222222222222222,
                            "#7201a8"
                          ],
                          [
                            0.3333333333333333,
                            "#9c179e"
                          ],
                          [
                            0.4444444444444444,
                            "#bd3786"
                          ],
                          [
                            0.5555555555555556,
                            "#d8576b"
                          ],
                          [
                            0.6666666666666666,
                            "#ed7953"
                          ],
                          [
                            0.7777777777777778,
                            "#fb9f3a"
                          ],
                          [
                            0.8888888888888888,
                            "#fdca26"
                          ],
                          [
                            1,
                            "#f0f921"
                          ]
                        ]
                      }
                    ],
                    "mesh3d": [
                      {
                        "type": "mesh3d",
                        "colorbar": {
                          "outlinewidth": 0,
                          "ticks": ""
                        }
                      }
                    ],
                    "scatter": [
                      {
                        "fillpattern": {
                          "fillmode": "overlay",
                          "size": 10,
                          "solidity": 0.2
                        },
                        "type": "scatter"
                      }
                    ],
                    "parcoords": [
                      {
                        "type": "parcoords",
                        "line": {
                          "colorbar": {
                            "outlinewidth": 0,
                            "ticks": ""
                          }
                        }
                      }
                    ],
                    "scatterpolargl": [
                      {
                        "type": "scatterpolargl",
                        "marker": {
                          "colorbar": {
                            "outlinewidth": 0,
                            "ticks": ""
                          }
                        }
                      }
                    ],
                    "bar": [
                      {
                        "error_x": {
                          "color": "#2a3f5f"
                        },
                        "error_y": {
                          "color": "#2a3f5f"
                        },
                        "marker": {
                          "line": {
                            "color": "#E5ECF6",
                            "width": 0.5
                          },
                          "pattern": {
                            "fillmode": "overlay",
                            "size": 10,
                            "solidity": 0.2
                          }
                        },
                        "type": "bar"
                      }
                    ],
                    "scattergeo": [
                      {
                        "type": "scattergeo",
                        "marker": {
                          "colorbar": {
                            "outlinewidth": 0,
                            "ticks": ""
                          }
                        }
                      }
                    ],
                    "scatterpolar": [
                      {
                        "type": "scatterpolar",
                        "marker": {
                          "colorbar": {
                            "outlinewidth": 0,
                            "ticks": ""
                          }
                        }
                      }
                    ],
                    "histogram": [
                      {
                        "marker": {
                          "pattern": {
                            "fillmode": "overlay",
                            "size": 10,
                            "solidity": 0.2
                          }
                        },
                        "type": "histogram"
                      }
                    ],
                    "scattergl": [
                      {
                        "type": "scattergl",
                        "marker": {
                          "colorbar": {
                            "outlinewidth": 0,
                            "ticks": ""
                          }
                        }
                      }
                    ],
                    "scatter3d": [
                      {
                        "type": "scatter3d",
                        "line": {
                          "colorbar": {
                            "outlinewidth": 0,
                            "ticks": ""
                          }
                        },
                        "marker": {
                          "colorbar": {
                            "outlinewidth": 0,
                            "ticks": ""
                          }
                        }
                      }
                    ],
                    "scattermapbox": [
                      {
                        "type": "scattermapbox",
                        "marker": {
                          "colorbar": {
                            "outlinewidth": 0,
                            "ticks": ""
                          }
                        }
                      }
                    ],
                    "scatterternary": [
                      {
                        "type": "scatterternary",
                        "marker": {
                          "colorbar": {
                            "outlinewidth": 0,
                            "ticks": ""
                          }
                        }
                      }
                    ],
                    "scattercarpet": [
                      {
                        "type": "scattercarpet",
                        "marker": {
                          "colorbar": {
                            "outlinewidth": 0,
                            "ticks": ""
                          }
                        }
                      }
                    ],
                    "carpet": [
                      {
                        "aaxis": {
                          "endlinecolor": "#2a3f5f",
                          "gridcolor": "white",
                          "linecolor": "white",
                          "minorgridcolor": "white",
                          "startlinecolor": "#2a3f5f"
                        },
                        "baxis": {
                          "endlinecolor": "#2a3f5f",
                          "gridcolor": "white",
                          "linecolor": "white",
                          "minorgridcolor": "white",
                          "startlinecolor": "#2a3f5f"
                        },
                        "type": "carpet"
                      }
                    ],
                    "table": [
                      {
                        "cells": {
                          "fill": {
                            "color": "#EBF0F8"
                          },
                          "line": {
                            "color": "white"
                          }
                        },
                        "header": {
                          "fill": {
                            "color": "#C8D4E3"
                          },
                          "line": {
                            "color": "white"
                          }
                        },
                        "type": "table"
                      }
                    ],
                    "barpolar": [
                      {
                        "marker": {
                          "line": {
                            "color": "#E5ECF6",
                            "width": 0.5
                          },
                          "pattern": {
                            "fillmode": "overlay",
                            "size": 10,
                            "solidity": 0.2
                          }
                        },
                        "type": "barpolar"
                      }
                    ],
                    "pie": [
                      {
                        "automargin": true,
                        "type": "pie"
                      }
                    ]
                  },
                  "layout": {
                    "autotypenumbers": "strict",
                    "colorway": [
                      "#636efa",
                      "#EF553B",
                      "#00cc96",
                      "#ab63fa",
                      "#FFA15A",
                      "#19d3f3",
                      "#FF6692",
                      "#B6E880",
                      "#FF97FF",
                      "#FECB52"
                    ],
                    "font": {
                      "color": "#2a3f5f"
                    },
                    "hovermode": "closest",
                    "hoverlabel": {
                      "align": "left"
                    },
                    "paper_bgcolor": "white",
                    "plot_bgcolor": "#E5ECF6",
                    "polar": {
                      "bgcolor": "#E5ECF6",
                      "angularaxis": {
                        "gridcolor": "white",
                        "linecolor": "white",
                        "ticks": ""
                      },
                      "radialaxis": {
                        "gridcolor": "white",
                        "linecolor": "white",
                        "ticks": ""
                      }
                    },
                    "ternary": {
                      "bgcolor": "#E5ECF6",
                      "aaxis": {
                        "gridcolor": "white",
                        "linecolor": "white",
                        "ticks": ""
                      },
                      "baxis": {
                        "gridcolor": "white",
                        "linecolor": "white",
                        "ticks": ""
                      },
                      "caxis": {
                        "gridcolor": "white",
                        "linecolor": "white",
                        "ticks": ""
                      }
                    },
                    "coloraxis": {
                      "colorbar": {
                        "outlinewidth": 0,
                        "ticks": ""
                      }
                    },
                    "colorscale": {
                      "sequential": [
                        [
                          0,
                          "#0d0887"
                        ],
                        [
                          0.1111111111111111,
                          "#46039f"
                        ],
                        [
                          0.2222222222222222,
                          "#7201a8"
                        ],
                        [
                          0.3333333333333333,
                          "#9c179e"
                        ],
                        [
                          0.4444444444444444,
                          "#bd3786"
                        ],
                        [
                          0.5555555555555556,
                          "#d8576b"
                        ],
                        [
                          0.6666666666666666,
                          "#ed7953"
                        ],
                        [
                          0.7777777777777778,
                          "#fb9f3a"
                        ],
                        [
                          0.8888888888888888,
                          "#fdca26"
                        ],
                        [
                          1,
                          "#f0f921"
                        ]
                      ],
                      "sequentialminus": [
                        [
                          0,
                          "#0d0887"
                        ],
                        [
                          0.1111111111111111,
                          "#46039f"
                        ],
                        [
                          0.2222222222222222,
                          "#7201a8"
                        ],
                        [
                          0.3333333333333333,
                          "#9c179e"
                        ],
                        [
                          0.4444444444444444,
                          "#bd3786"
                        ],
                        [
                          0.5555555555555556,
                          "#d8576b"
                        ],
                        [
                          0.6666666666666666,
                          "#ed7953"
                        ],
                        [
                          0.7777777777777778,
                          "#fb9f3a"
                        ],
                        [
                          0.8888888888888888,
                          "#fdca26"
                        ],
                        [
                          1,
                          "#f0f921"
                        ]
                      ],
                      "diverging": [
                        [
                          0,
                          "#8e0152"
                        ],
                        [
                          0.1,
                          "#c51b7d"
                        ],
                        [
                          0.2,
                          "#de77ae"
                        ],
                        [
                          0.3,
                          "#f1b6da"
                        ],
                        [
                          0.4,
                          "#fde0ef"
                        ],
                        [
                          0.5,
                          "#f7f7f7"
                        ],
                        [
                          0.6,
                          "#e6f5d0"
                        ],
                        [
                          0.7,
                          "#b8e186"
                        ],
                        [
                          0.8,
                          "#7fbc41"
                        ],
                        [
                          0.9,
                          "#4d9221"
                        ],
                        [
                          1,
                          "#276419"
                        ]
                      ]
                    },
                    "xaxis": {
                      "gridcolor": "white",
                      "linecolor": "white",
                      "ticks": "",
                      "title": {
                        "standoff": 15
                      },
                      "zerolinecolor": "white",
                      "automargin": true,
                      "zerolinewidth": 2
                    },
                    "yaxis": {
                      "gridcolor": "white",
                      "linecolor": "white",
                      "ticks": "",
                      "title": {
                        "standoff": 15
                      },
                      "zerolinecolor": "white",
                      "automargin": true,
                      "zerolinewidth": 2
                    },
                    "scene": {
                      "xaxis": {
                        "backgroundcolor": "#E5ECF6",
                        "gridcolor": "white",
                        "linecolor": "white",
                        "showbackground": true,
                        "ticks": "",
                        "zerolinecolor": "white",
                        "gridwidth": 2
                      },
                      "yaxis": {
                        "backgroundcolor": "#E5ECF6",
                        "gridcolor": "white",
                        "linecolor": "white",
                        "showbackground": true,
                        "ticks": "",
                        "zerolinecolor": "white",
                        "gridwidth": 2
                      },
                      "zaxis": {
                        "backgroundcolor": "#E5ECF6",
                        "gridcolor": "white",
                        "linecolor": "white",
                        "showbackground": true,
                        "ticks": "",
                        "zerolinecolor": "white",
                        "gridwidth": 2
                      }
                    },
                    "shapedefaults": {
                      "line": {
                        "color": "#2a3f5f"
                      }
                    },
                    "annotationdefaults": {
                      "arrowcolor": "#2a3f5f",
                      "arrowhead": 0,
                      "arrowwidth": 1
                    },
                    "geo": {
                      "bgcolor": "white",
                      "landcolor": "#E5ECF6",
                      "subunitcolor": "white",
                      "showland": true,
                      "showlakes": true,
                      "lakecolor": "white"
                    },
                    "title": {
                      "x": 0.05
                    },
                    "mapbox": {
                      "style": "light"
                    }
                  }
                },
                "xaxis": {
                  "anchor": "y",
                  "domain": [
                    0,
                    1
                  ],
                  "title": {
                    "text": "WORKSITE_STATE"
                  },
                  "type": "category",
                  "range": [
                    -0.5,
                    14.5
                  ],
                  "autorange": true
                },
                "yaxis": {
                  "anchor": "x",
                  "domain": [
                    0,
                    1
                  ],
                  "title": {
                    "text": "TOTAL POSITIONS"
                  },
                  "type": "linear",
                  "range": [
                    0,
                    308.42105263157896
                  ],
                  "autorange": true
                },
                "legend": {
                  "tracegroupgap": 0
                },
                "margin": {
                  "t": 60
                },
                "barmode": "relative",
                "autosize": true
              },
              "config": {
                "plotlyServerURL": "https://plot.ly"
              }
            },
            "text/html": "<div>                            <div id=\"c6d27e52-6a21-4dea-8c54-a50c2baa6ff5\" class=\"plotly-graph-div\" style=\"height:525px; width:100%;\"></div>            <script type=\"text/javascript\">                require([\"plotly\"], function(Plotly) {                    window.PLOTLYENV=window.PLOTLYENV || {};                                    if (document.getElementById(\"c6d27e52-6a21-4dea-8c54-a50c2baa6ff5\")) {                    Plotly.newPlot(                        \"c6d27e52-6a21-4dea-8c54-a50c2baa6ff5\",                        [{\"alignmentgroup\":\"True\",\"hovertemplate\":\"WORKSITE_STATE=%{x}\\u003cbr\\u003eTOTAL POSITIONS=%{y}\\u003cextra\\u003e\\u003c\\u002fextra\\u003e\",\"legendgroup\":\"\",\"marker\":{\"color\":\"#636efa\",\"pattern\":{\"shape\":\"\"}},\"name\":\"\",\"offsetgroup\":\"\",\"orientation\":\"v\",\"showlegend\":false,\"textposition\":\"auto\",\"x\":[\"TX\",\"NY\",\"NJ\",\"OH\",\"DE\",\"FL\",\"IL\",\"CA\",\"WA\",\"VA\",\"MA\",\"UT\",\"CT\",\"GA\",\"NC\"],\"xaxis\":\"x\",\"y\":[293,178,170,146,122,41,41,27,20,5,3,3,2,1,1],\"yaxis\":\"y\",\"type\":\"bar\"}],                        {\"template\":{\"data\":{\"histogram2dcontour\":[{\"type\":\"histogram2dcontour\",\"colorbar\":{\"outlinewidth\":0,\"ticks\":\"\"},\"colorscale\":[[0.0,\"#0d0887\"],[0.1111111111111111,\"#46039f\"],[0.2222222222222222,\"#7201a8\"],[0.3333333333333333,\"#9c179e\"],[0.4444444444444444,\"#bd3786\"],[0.5555555555555556,\"#d8576b\"],[0.6666666666666666,\"#ed7953\"],[0.7777777777777778,\"#fb9f3a\"],[0.8888888888888888,\"#fdca26\"],[1.0,\"#f0f921\"]]}],\"choropleth\":[{\"type\":\"choropleth\",\"colorbar\":{\"outlinewidth\":0,\"ticks\":\"\"}}],\"histogram2d\":[{\"type\":\"histogram2d\",\"colorbar\":{\"outlinewidth\":0,\"ticks\":\"\"},\"colorscale\":[[0.0,\"#0d0887\"],[0.1111111111111111,\"#46039f\"],[0.2222222222222222,\"#7201a8\"],[0.3333333333333333,\"#9c179e\"],[0.4444444444444444,\"#bd3786\"],[0.5555555555555556,\"#d8576b\"],[0.6666666666666666,\"#ed7953\"],[0.7777777777777778,\"#fb9f3a\"],[0.8888888888888888,\"#fdca26\"],[1.0,\"#f0f921\"]]}],\"heatmap\":[{\"type\":\"heatmap\",\"colorbar\":{\"outlinewidth\":0,\"ticks\":\"\"},\"colorscale\":[[0.0,\"#0d0887\"],[0.1111111111111111,\"#46039f\"],[0.2222222222222222,\"#7201a8\"],[0.3333333333333333,\"#9c179e\"],[0.4444444444444444,\"#bd3786\"],[0.5555555555555556,\"#d8576b\"],[0.6666666666666666,\"#ed7953\"],[0.7777777777777778,\"#fb9f3a\"],[0.8888888888888888,\"#fdca26\"],[1.0,\"#f0f921\"]]}],\"heatmapgl\":[{\"type\":\"heatmapgl\",\"colorbar\":{\"outlinewidth\":0,\"ticks\":\"\"},\"colorscale\":[[0.0,\"#0d0887\"],[0.1111111111111111,\"#46039f\"],[0.2222222222222222,\"#7201a8\"],[0.3333333333333333,\"#9c179e\"],[0.4444444444444444,\"#bd3786\"],[0.5555555555555556,\"#d8576b\"],[0.6666666666666666,\"#ed7953\"],[0.7777777777777778,\"#fb9f3a\"],[0.8888888888888888,\"#fdca26\"],[1.0,\"#f0f921\"]]}],\"contourcarpet\":[{\"type\":\"contourcarpet\",\"colorbar\":{\"outlinewidth\":0,\"ticks\":\"\"}}],\"contour\":[{\"type\":\"contour\",\"colorbar\":{\"outlinewidth\":0,\"ticks\":\"\"},\"colorscale\":[[0.0,\"#0d0887\"],[0.1111111111111111,\"#46039f\"],[0.2222222222222222,\"#7201a8\"],[0.3333333333333333,\"#9c179e\"],[0.4444444444444444,\"#bd3786\"],[0.5555555555555556,\"#d8576b\"],[0.6666666666666666,\"#ed7953\"],[0.7777777777777778,\"#fb9f3a\"],[0.8888888888888888,\"#fdca26\"],[1.0,\"#f0f921\"]]}],\"surface\":[{\"type\":\"surface\",\"colorbar\":{\"outlinewidth\":0,\"ticks\":\"\"},\"colorscale\":[[0.0,\"#0d0887\"],[0.1111111111111111,\"#46039f\"],[0.2222222222222222,\"#7201a8\"],[0.3333333333333333,\"#9c179e\"],[0.4444444444444444,\"#bd3786\"],[0.5555555555555556,\"#d8576b\"],[0.6666666666666666,\"#ed7953\"],[0.7777777777777778,\"#fb9f3a\"],[0.8888888888888888,\"#fdca26\"],[1.0,\"#f0f921\"]]}],\"mesh3d\":[{\"type\":\"mesh3d\",\"colorbar\":{\"outlinewidth\":0,\"ticks\":\"\"}}],\"scatter\":[{\"fillpattern\":{\"fillmode\":\"overlay\",\"size\":10,\"solidity\":0.2},\"type\":\"scatter\"}],\"parcoords\":[{\"type\":\"parcoords\",\"line\":{\"colorbar\":{\"outlinewidth\":0,\"ticks\":\"\"}}}],\"scatterpolargl\":[{\"type\":\"scatterpolargl\",\"marker\":{\"colorbar\":{\"outlinewidth\":0,\"ticks\":\"\"}}}],\"bar\":[{\"error_x\":{\"color\":\"#2a3f5f\"},\"error_y\":{\"color\":\"#2a3f5f\"},\"marker\":{\"line\":{\"color\":\"#E5ECF6\",\"width\":0.5},\"pattern\":{\"fillmode\":\"overlay\",\"size\":10,\"solidity\":0.2}},\"type\":\"bar\"}],\"scattergeo\":[{\"type\":\"scattergeo\",\"marker\":{\"colorbar\":{\"outlinewidth\":0,\"ticks\":\"\"}}}],\"scatterpolar\":[{\"type\":\"scatterpolar\",\"marker\":{\"colorbar\":{\"outlinewidth\":0,\"ticks\":\"\"}}}],\"histogram\":[{\"marker\":{\"pattern\":{\"fillmode\":\"overlay\",\"size\":10,\"solidity\":0.2}},\"type\":\"histogram\"}],\"scattergl\":[{\"type\":\"scattergl\",\"marker\":{\"colorbar\":{\"outlinewidth\":0,\"ticks\":\"\"}}}],\"scatter3d\":[{\"type\":\"scatter3d\",\"line\":{\"colorbar\":{\"outlinewidth\":0,\"ticks\":\"\"}},\"marker\":{\"colorbar\":{\"outlinewidth\":0,\"ticks\":\"\"}}}],\"scattermapbox\":[{\"type\":\"scattermapbox\",\"marker\":{\"colorbar\":{\"outlinewidth\":0,\"ticks\":\"\"}}}],\"scatterternary\":[{\"type\":\"scatterternary\",\"marker\":{\"colorbar\":{\"outlinewidth\":0,\"ticks\":\"\"}}}],\"scattercarpet\":[{\"type\":\"scattercarpet\",\"marker\":{\"colorbar\":{\"outlinewidth\":0,\"ticks\":\"\"}}}],\"carpet\":[{\"aaxis\":{\"endlinecolor\":\"#2a3f5f\",\"gridcolor\":\"white\",\"linecolor\":\"white\",\"minorgridcolor\":\"white\",\"startlinecolor\":\"#2a3f5f\"},\"baxis\":{\"endlinecolor\":\"#2a3f5f\",\"gridcolor\":\"white\",\"linecolor\":\"white\",\"minorgridcolor\":\"white\",\"startlinecolor\":\"#2a3f5f\"},\"type\":\"carpet\"}],\"table\":[{\"cells\":{\"fill\":{\"color\":\"#EBF0F8\"},\"line\":{\"color\":\"white\"}},\"header\":{\"fill\":{\"color\":\"#C8D4E3\"},\"line\":{\"color\":\"white\"}},\"type\":\"table\"}],\"barpolar\":[{\"marker\":{\"line\":{\"color\":\"#E5ECF6\",\"width\":0.5},\"pattern\":{\"fillmode\":\"overlay\",\"size\":10,\"solidity\":0.2}},\"type\":\"barpolar\"}],\"pie\":[{\"automargin\":true,\"type\":\"pie\"}]},\"layout\":{\"autotypenumbers\":\"strict\",\"colorway\":[\"#636efa\",\"#EF553B\",\"#00cc96\",\"#ab63fa\",\"#FFA15A\",\"#19d3f3\",\"#FF6692\",\"#B6E880\",\"#FF97FF\",\"#FECB52\"],\"font\":{\"color\":\"#2a3f5f\"},\"hovermode\":\"closest\",\"hoverlabel\":{\"align\":\"left\"},\"paper_bgcolor\":\"white\",\"plot_bgcolor\":\"#E5ECF6\",\"polar\":{\"bgcolor\":\"#E5ECF6\",\"angularaxis\":{\"gridcolor\":\"white\",\"linecolor\":\"white\",\"ticks\":\"\"},\"radialaxis\":{\"gridcolor\":\"white\",\"linecolor\":\"white\",\"ticks\":\"\"}},\"ternary\":{\"bgcolor\":\"#E5ECF6\",\"aaxis\":{\"gridcolor\":\"white\",\"linecolor\":\"white\",\"ticks\":\"\"},\"baxis\":{\"gridcolor\":\"white\",\"linecolor\":\"white\",\"ticks\":\"\"},\"caxis\":{\"gridcolor\":\"white\",\"linecolor\":\"white\",\"ticks\":\"\"}},\"coloraxis\":{\"colorbar\":{\"outlinewidth\":0,\"ticks\":\"\"}},\"colorscale\":{\"sequential\":[[0.0,\"#0d0887\"],[0.1111111111111111,\"#46039f\"],[0.2222222222222222,\"#7201a8\"],[0.3333333333333333,\"#9c179e\"],[0.4444444444444444,\"#bd3786\"],[0.5555555555555556,\"#d8576b\"],[0.6666666666666666,\"#ed7953\"],[0.7777777777777778,\"#fb9f3a\"],[0.8888888888888888,\"#fdca26\"],[1.0,\"#f0f921\"]],\"sequentialminus\":[[0.0,\"#0d0887\"],[0.1111111111111111,\"#46039f\"],[0.2222222222222222,\"#7201a8\"],[0.3333333333333333,\"#9c179e\"],[0.4444444444444444,\"#bd3786\"],[0.5555555555555556,\"#d8576b\"],[0.6666666666666666,\"#ed7953\"],[0.7777777777777778,\"#fb9f3a\"],[0.8888888888888888,\"#fdca26\"],[1.0,\"#f0f921\"]],\"diverging\":[[0,\"#8e0152\"],[0.1,\"#c51b7d\"],[0.2,\"#de77ae\"],[0.3,\"#f1b6da\"],[0.4,\"#fde0ef\"],[0.5,\"#f7f7f7\"],[0.6,\"#e6f5d0\"],[0.7,\"#b8e186\"],[0.8,\"#7fbc41\"],[0.9,\"#4d9221\"],[1,\"#276419\"]]},\"xaxis\":{\"gridcolor\":\"white\",\"linecolor\":\"white\",\"ticks\":\"\",\"title\":{\"standoff\":15},\"zerolinecolor\":\"white\",\"automargin\":true,\"zerolinewidth\":2},\"yaxis\":{\"gridcolor\":\"white\",\"linecolor\":\"white\",\"ticks\":\"\",\"title\":{\"standoff\":15},\"zerolinecolor\":\"white\",\"automargin\":true,\"zerolinewidth\":2},\"scene\":{\"xaxis\":{\"backgroundcolor\":\"#E5ECF6\",\"gridcolor\":\"white\",\"linecolor\":\"white\",\"showbackground\":true,\"ticks\":\"\",\"zerolinecolor\":\"white\",\"gridwidth\":2},\"yaxis\":{\"backgroundcolor\":\"#E5ECF6\",\"gridcolor\":\"white\",\"linecolor\":\"white\",\"showbackground\":true,\"ticks\":\"\",\"zerolinecolor\":\"white\",\"gridwidth\":2},\"zaxis\":{\"backgroundcolor\":\"#E5ECF6\",\"gridcolor\":\"white\",\"linecolor\":\"white\",\"showbackground\":true,\"ticks\":\"\",\"zerolinecolor\":\"white\",\"gridwidth\":2}},\"shapedefaults\":{\"line\":{\"color\":\"#2a3f5f\"}},\"annotationdefaults\":{\"arrowcolor\":\"#2a3f5f\",\"arrowhead\":0,\"arrowwidth\":1},\"geo\":{\"bgcolor\":\"white\",\"landcolor\":\"#E5ECF6\",\"subunitcolor\":\"white\",\"showland\":true,\"showlakes\":true,\"lakecolor\":\"white\"},\"title\":{\"x\":0.05},\"mapbox\":{\"style\":\"light\"}}},\"xaxis\":{\"anchor\":\"y\",\"domain\":[0.0,1.0],\"title\":{\"text\":\"WORKSITE_STATE\"}},\"yaxis\":{\"anchor\":\"x\",\"domain\":[0.0,1.0],\"title\":{\"text\":\"TOTAL POSITIONS\"}},\"legend\":{\"tracegroupgap\":0},\"margin\":{\"t\":60},\"barmode\":\"relative\"},                        {\"responsive\": true}                    ).then(function(){\n                            \nvar gd = document.getElementById('c6d27e52-6a21-4dea-8c54-a50c2baa6ff5');\nvar x = new MutationObserver(function (mutations, observer) {{\n        var display = window.getComputedStyle(gd).display;\n        if (!display || display === 'none') {{\n            console.log([gd, 'removed!']);\n            Plotly.purge(gd);\n            observer.disconnect();\n        }}\n}});\n\n// Listen for the removal of the full notebook cells\nvar notebookContainer = gd.closest('#notebook-container');\nif (notebookContainer) {{\n    x.observe(notebookContainer, {childList: true});\n}}\n\n// Listen for the clearing of the current output cell\nvar outputEl = gd.closest('.output');\nif (outputEl) {{\n    x.observe(outputEl, {childList: true});\n}}\n\n                        })                };                });            </script>        </div>",
            "image/png": "[encoded data removed]"
          },
          "metadata": {}
        }
      ],
      "execution_count": 39
    },
    {
      "cell_type": "code",
      "source": "",
      "metadata": {
        "trusted": true
      },
      "outputs": [],
      "execution_count": null
    }
  ]
}